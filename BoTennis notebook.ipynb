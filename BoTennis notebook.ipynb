{
 "cells": [
  {
   "cell_type": "code",
   "execution_count": 7,
   "metadata": {},
   "outputs": [],
   "source": [
    "import pandas as pd \n",
    "import numpy as np \n",
    "import matplotlib.pyplot as plt\n",
    "from pathlib import Path\n",
    "import string\n",
    "import re\n",
    "import joblib\n",
    "import json\n",
    "from collections import Counter\n",
    "import nltk\n",
    "from nltk.corpus import stopwords\n",
    "from nltk.stem import WordNetLemmatizer\n",
    "\n",
    "from tensorflow.keras.preprocessing.text import Tokenizer\n",
    "from tensorflow.keras.preprocessing.sequence import pad_sequences\n",
    "from tensorflow.keras.utils import plot_model\n",
    "from tensorflow.keras.models import Sequential\n",
    "from tensorflow.keras.layers import Embedding, Dense, Flatten\n",
    "from tensorflow.keras.layers import Conv1D\n",
    "from tensorflow.keras.layers import MaxPooling1D\n",
    "from tensorflow.keras.callbacks import ModelCheckpoint, EarlyStopping, ReduceLROnPlateau"
   ]
  },
  {
   "cell_type": "code",
   "execution_count": null,
   "metadata": {},
   "outputs": [],
   "source": []
  },
  {
   "cell_type": "code",
   "execution_count": 8,
   "metadata": {},
   "outputs": [],
   "source": [
    "#nltk.download('wordnet')"
   ]
  },
  {
   "cell_type": "code",
   "execution_count": 9,
   "metadata": {},
   "outputs": [],
   "source": [
    "def load_doc(jsonFile):\n",
    "    with open(jsonFile) as file:\n",
    "        Json_data = json.loads(file.read())\n",
    "    return Json_data"
   ]
  },
  {
   "cell_type": "code",
   "execution_count": 10,
   "metadata": {},
   "outputs": [],
   "source": [
    "data = load_doc('dataset//intents.json')"
   ]
  },
  {
   "cell_type": "code",
   "execution_count": 11,
   "metadata": {},
   "outputs": [],
   "source": [
    "def frame_data(feat_1,feat_2,is_pattern):\n",
    "    is_pattern = is_pattern\n",
    "    df = pd.DataFrame(columns=[feat_1,feat_2])\n",
    "    for intent in data['intents']:\n",
    "        if is_pattern:\n",
    "            for pattern in intent['patterns']:\n",
    "                w = pattern\n",
    "                df_to_append = pd.Series([w,intent['tag']], index = df.columns)\n",
    "                df = df.append(df_to_append,ignore_index=True)\n",
    "        else:\n",
    "            for response in intent['responses']:\n",
    "                w = response\n",
    "                df_to_append = pd.Series([w,intent['tag']], index = df.columns)\n",
    "                df = df.append(df_to_append,ignore_index=True)\n",
    "    return df"
   ]
  },
  {
   "cell_type": "code",
   "execution_count": null,
   "metadata": {},
   "outputs": [],
   "source": []
  },
  {
   "cell_type": "code",
   "execution_count": 12,
   "metadata": {},
   "outputs": [
    {
     "data": {
      "text/html": [
       "<div>\n",
       "<style scoped>\n",
       "    .dataframe tbody tr th:only-of-type {\n",
       "        vertical-align: middle;\n",
       "    }\n",
       "\n",
       "    .dataframe tbody tr th {\n",
       "        vertical-align: top;\n",
       "    }\n",
       "\n",
       "    .dataframe thead th {\n",
       "        text-align: right;\n",
       "    }\n",
       "</style>\n",
       "<table border=\"1\" class=\"dataframe\">\n",
       "  <thead>\n",
       "    <tr style=\"text-align: right;\">\n",
       "      <th></th>\n",
       "      <th>questions</th>\n",
       "      <th>labels</th>\n",
       "    </tr>\n",
       "  </thead>\n",
       "  <tbody>\n",
       "    <tr>\n",
       "      <th>0</th>\n",
       "      <td>Hi there</td>\n",
       "      <td>start_conversation</td>\n",
       "    </tr>\n",
       "    <tr>\n",
       "      <th>1</th>\n",
       "      <td>Is anyone there?</td>\n",
       "      <td>start_conversation</td>\n",
       "    </tr>\n",
       "    <tr>\n",
       "      <th>2</th>\n",
       "      <td>Hey</td>\n",
       "      <td>start_conversation</td>\n",
       "    </tr>\n",
       "    <tr>\n",
       "      <th>3</th>\n",
       "      <td>Hola</td>\n",
       "      <td>start_conversation</td>\n",
       "    </tr>\n",
       "    <tr>\n",
       "      <th>4</th>\n",
       "      <td>Hello</td>\n",
       "      <td>start_conversation</td>\n",
       "    </tr>\n",
       "    <tr>\n",
       "      <th>...</th>\n",
       "      <td>...</td>\n",
       "      <td>...</td>\n",
       "    </tr>\n",
       "    <tr>\n",
       "      <th>82</th>\n",
       "      <td>What are the match formats in tennis</td>\n",
       "      <td>match_format</td>\n",
       "    </tr>\n",
       "    <tr>\n",
       "      <th>83</th>\n",
       "      <td>Do we just keep playing till we get tired</td>\n",
       "      <td>match_format</td>\n",
       "    </tr>\n",
       "    <tr>\n",
       "      <th>84</th>\n",
       "      <td>How many match sets are there in tennis</td>\n",
       "      <td>match_format</td>\n",
       "    </tr>\n",
       "    <tr>\n",
       "      <th>85</th>\n",
       "      <td>When do we stop playing?</td>\n",
       "      <td>match_format</td>\n",
       "    </tr>\n",
       "    <tr>\n",
       "      <th>86</th>\n",
       "      <td>How many set can be played?</td>\n",
       "      <td>match_format</td>\n",
       "    </tr>\n",
       "  </tbody>\n",
       "</table>\n",
       "<p>87 rows × 2 columns</p>\n",
       "</div>"
      ],
      "text/plain": [
       "                                    questions              labels\n",
       "0                                    Hi there  start_conversation\n",
       "1                            Is anyone there?  start_conversation\n",
       "2                                         Hey  start_conversation\n",
       "3                                        Hola  start_conversation\n",
       "4                                       Hello  start_conversation\n",
       "..                                        ...                 ...\n",
       "82       What are the match formats in tennis        match_format\n",
       "83  Do we just keep playing till we get tired        match_format\n",
       "84    How many match sets are there in tennis        match_format\n",
       "85                   When do we stop playing?        match_format\n",
       "86                How many set can be played?        match_format\n",
       "\n",
       "[87 rows x 2 columns]"
      ]
     },
     "execution_count": 12,
     "metadata": {},
     "output_type": "execute_result"
    }
   ],
   "source": [
    "# users intents \n",
    "df1 = frame_data('questions','labels',True)\n",
    "df1"
   ]
  },
  {
   "cell_type": "code",
   "execution_count": 13,
   "metadata": {},
   "outputs": [
    {
     "data": {
      "text/plain": [
       "start_conversation     7\n",
       "scoring                5\n",
       "serving_rules          6\n",
       "tennis_games           4\n",
       "court_lines            3\n",
       "first_server           4\n",
       "options                8\n",
       "bot_scope              5\n",
       "what_are_you           4\n",
       "kits                  10\n",
       "top_players            6\n",
       "match_format           5\n",
       "end_conversation       5\n",
       "general_rules          5\n",
       "thanks                 5\n",
       "tie_break              5\n",
       "Name: labels, dtype: int64"
      ]
     },
     "execution_count": 13,
     "metadata": {},
     "output_type": "execute_result"
    }
   ],
   "source": [
    "df1.labels.value_counts(sort=False)"
   ]
  },
  {
   "cell_type": "code",
   "execution_count": 14,
   "metadata": {},
   "outputs": [
    {
     "data": {
      "text/html": [
       "<div>\n",
       "<style scoped>\n",
       "    .dataframe tbody tr th:only-of-type {\n",
       "        vertical-align: middle;\n",
       "    }\n",
       "\n",
       "    .dataframe tbody tr th {\n",
       "        vertical-align: top;\n",
       "    }\n",
       "\n",
       "    .dataframe thead th {\n",
       "        text-align: right;\n",
       "    }\n",
       "</style>\n",
       "<table border=\"1\" class=\"dataframe\">\n",
       "  <thead>\n",
       "    <tr style=\"text-align: right;\">\n",
       "      <th></th>\n",
       "      <th>response</th>\n",
       "      <th>labels</th>\n",
       "    </tr>\n",
       "  </thead>\n",
       "  <tbody>\n",
       "    <tr>\n",
       "      <th>0</th>\n",
       "      <td>Hello, I'm sure you love tennis</td>\n",
       "      <td>start_conversation</td>\n",
       "    </tr>\n",
       "    <tr>\n",
       "      <th>1</th>\n",
       "      <td>Happy to have you here</td>\n",
       "      <td>start_conversation</td>\n",
       "    </tr>\n",
       "    <tr>\n",
       "      <th>2</th>\n",
       "      <td>Good to see you again</td>\n",
       "      <td>start_conversation</td>\n",
       "    </tr>\n",
       "    <tr>\n",
       "      <th>3</th>\n",
       "      <td>Hi there, how can I help?</td>\n",
       "      <td>start_conversation</td>\n",
       "    </tr>\n",
       "    <tr>\n",
       "      <th>4</th>\n",
       "      <td>Hi, I'm  BoTennis</td>\n",
       "      <td>what_are_you</td>\n",
       "    </tr>\n",
       "  </tbody>\n",
       "</table>\n",
       "</div>"
      ],
      "text/plain": [
       "                          response              labels\n",
       "0  Hello, I'm sure you love tennis  start_conversation\n",
       "1           Happy to have you here  start_conversation\n",
       "2            Good to see you again  start_conversation\n",
       "3        Hi there, how can I help?  start_conversation\n",
       "4                Hi, I'm  BoTennis        what_are_you"
      ]
     },
     "execution_count": 14,
     "metadata": {},
     "output_type": "execute_result"
    }
   ],
   "source": [
    "# Bot response\n",
    "df2 = frame_data('response','labels',False)\n",
    "df2.head()"
   ]
  },
  {
   "cell_type": "code",
   "execution_count": 15,
   "metadata": {},
   "outputs": [],
   "source": [
    "lemmatizer = WordNetLemmatizer()\n",
    "\n",
    "vocab = Counter()\n",
    "labels = []\n",
    "def tokenizer(entry):\n",
    "    tokens = entry.split()\n",
    "    re_punc = re.compile('[%s]' % re.escape(string.punctuation))\n",
    "    tokens = [re_punc.sub('', w) for w in tokens]\n",
    "    tokens = [word for word in tokens if word.isalpha()]\n",
    "    tokens = [lemmatizer.lemmatize(w.lower()) for w in tokens]\n",
    "#     stop_words = set(stopwords.words('english'))\n",
    "#     tokens = [w for w in tokens if not w in stop_words]\n",
    "    tokens = [word.lower() for word in tokens if len(word) > 1]\n",
    "    return tokens"
   ]
  },
  {
   "cell_type": "code",
   "execution_count": 16,
   "metadata": {},
   "outputs": [],
   "source": [
    "def remove_stop_words(tokenizer,df,feature):\n",
    "    doc_without_stopwords = []\n",
    "    for entry in df[feature]:\n",
    "        tokens = tokenizer(entry)\n",
    "        joblib.dump(tokens,'tokens.pkl')\n",
    "        doc_without_stopwords.append(' '.join(tokens))\n",
    "    df[feature] = doc_without_stopwords\n",
    "    return "
   ]
  },
  {
   "cell_type": "code",
   "execution_count": null,
   "metadata": {},
   "outputs": [],
   "source": []
  },
  {
   "cell_type": "code",
   "execution_count": 17,
   "metadata": {},
   "outputs": [],
   "source": [
    "def create_vocab(tokenizer,df,feature):\n",
    "    for entry in df[feature]:\n",
    "        tokens = tokenizer(entry)   \n",
    "        vocab.update(tokens)\n",
    "    joblib.dump(vocab,'vocab.pkl')\n",
    "    return "
   ]
  },
  {
   "cell_type": "code",
   "execution_count": 18,
   "metadata": {},
   "outputs": [],
   "source": [
    "create_vocab(tokenizer,df1,'questions')\n",
    "remove_stop_words(tokenizer,df1,'questions')"
   ]
  },
  {
   "cell_type": "code",
   "execution_count": 19,
   "metadata": {},
   "outputs": [
    {
     "name": "stdout",
     "output_type": "stream",
     "text": [
      "[('tennis', 36), ('the', 24), ('what', 23), ('you', 22), ('are', 19), ('do', 16), ('in', 11), ('rule', 11), ('how', 10), ('can', 7), ('know', 7), ('about', 7), ('is', 6), ('player', 6), ('list', 6), ('service', 6), ('score', 6), ('who', 5), ('me', 5), ('kit', 5)]\n"
     ]
    }
   ],
   "source": [
    "print(vocab.most_common(20))"
   ]
  },
  {
   "cell_type": "code",
   "execution_count": 20,
   "metadata": {},
   "outputs": [
    {
     "data": {
      "text/plain": [
       "118"
      ]
     },
     "execution_count": 20,
     "metadata": {},
     "output_type": "execute_result"
    }
   ],
   "source": [
    "vocab_size = len(vocab)\n",
    "vocab_size"
   ]
  },
  {
   "cell_type": "code",
   "execution_count": 21,
   "metadata": {},
   "outputs": [
    {
     "data": {
      "text/html": [
       "<div>\n",
       "<style scoped>\n",
       "    .dataframe tbody tr th:only-of-type {\n",
       "        vertical-align: middle;\n",
       "    }\n",
       "\n",
       "    .dataframe tbody tr th {\n",
       "        vertical-align: top;\n",
       "    }\n",
       "\n",
       "    .dataframe thead th {\n",
       "        text-align: right;\n",
       "    }\n",
       "</style>\n",
       "<table border=\"1\" class=\"dataframe\">\n",
       "  <thead>\n",
       "    <tr style=\"text-align: right;\">\n",
       "      <th></th>\n",
       "      <th>questions</th>\n",
       "      <th>labels</th>\n",
       "    </tr>\n",
       "  </thead>\n",
       "  <tbody>\n",
       "    <tr>\n",
       "      <th>0</th>\n",
       "      <td>hi there</td>\n",
       "      <td>start_conversation</td>\n",
       "    </tr>\n",
       "    <tr>\n",
       "      <th>1</th>\n",
       "      <td>is anyone there</td>\n",
       "      <td>start_conversation</td>\n",
       "    </tr>\n",
       "    <tr>\n",
       "      <th>2</th>\n",
       "      <td>hey</td>\n",
       "      <td>start_conversation</td>\n",
       "    </tr>\n",
       "    <tr>\n",
       "      <th>3</th>\n",
       "      <td>hola</td>\n",
       "      <td>start_conversation</td>\n",
       "    </tr>\n",
       "    <tr>\n",
       "      <th>4</th>\n",
       "      <td>hello</td>\n",
       "      <td>start_conversation</td>\n",
       "    </tr>\n",
       "    <tr>\n",
       "      <th>...</th>\n",
       "      <td>...</td>\n",
       "      <td>...</td>\n",
       "    </tr>\n",
       "    <tr>\n",
       "      <th>82</th>\n",
       "      <td>what are the match format in tennis</td>\n",
       "      <td>match_format</td>\n",
       "    </tr>\n",
       "    <tr>\n",
       "      <th>83</th>\n",
       "      <td>do we just keep playing till we get tired</td>\n",
       "      <td>match_format</td>\n",
       "    </tr>\n",
       "    <tr>\n",
       "      <th>84</th>\n",
       "      <td>how many match set are there in tennis</td>\n",
       "      <td>match_format</td>\n",
       "    </tr>\n",
       "    <tr>\n",
       "      <th>85</th>\n",
       "      <td>when do we stop playing</td>\n",
       "      <td>match_format</td>\n",
       "    </tr>\n",
       "    <tr>\n",
       "      <th>86</th>\n",
       "      <td>how many set can be played</td>\n",
       "      <td>match_format</td>\n",
       "    </tr>\n",
       "  </tbody>\n",
       "</table>\n",
       "<p>87 rows × 2 columns</p>\n",
       "</div>"
      ],
      "text/plain": [
       "                                    questions              labels\n",
       "0                                    hi there  start_conversation\n",
       "1                             is anyone there  start_conversation\n",
       "2                                         hey  start_conversation\n",
       "3                                        hola  start_conversation\n",
       "4                                       hello  start_conversation\n",
       "..                                        ...                 ...\n",
       "82        what are the match format in tennis        match_format\n",
       "83  do we just keep playing till we get tired        match_format\n",
       "84     how many match set are there in tennis        match_format\n",
       "85                    when do we stop playing        match_format\n",
       "86                 how many set can be played        match_format\n",
       "\n",
       "[87 rows x 2 columns]"
      ]
     },
     "execution_count": 21,
     "metadata": {},
     "output_type": "execute_result"
    }
   ],
   "source": [
    "df1"
   ]
  },
  {
   "cell_type": "code",
   "execution_count": 22,
   "metadata": {},
   "outputs": [
    {
     "data": {
      "text/plain": [
       "['what do you know about tennis',\n",
       " 'each line on the tennis court mean whats',\n",
       " 'bye',\n",
       " 'who serf first',\n",
       " 'what are the general rule of tennis',\n",
       " 'what are the tennis kit need to get started',\n",
       " 'what are the match format in tennis',\n",
       " 'how can you help me',\n",
       " 'how is score counted',\n",
       " 'what are the service rule',\n",
       " 'hi there',\n",
       " 'do you know tennis game type',\n",
       " 'thanks',\n",
       " 'what will happen if game end in same score',\n",
       " 'who are the top player in tennis',\n",
       " 'what is your name']"
      ]
     },
     "execution_count": 22,
     "metadata": {},
     "output_type": "execute_result"
    }
   ],
   "source": [
    "test_list = list(df1.groupby(by='labels',as_index=False).first()['questions'])\n",
    "test_list"
   ]
  },
  {
   "cell_type": "code",
   "execution_count": 23,
   "metadata": {},
   "outputs": [
    {
     "data": {
      "text/plain": [
       "[29, 55, 11, 58, 40, 45, 82, 21, 77, 62, 0, 68, 16, 72, 34, 7]"
      ]
     },
     "execution_count": 23,
     "metadata": {},
     "output_type": "execute_result"
    }
   ],
   "source": [
    "test_index = []\n",
    "for i,_ in enumerate(test_list):\n",
    "    idx = df1[df1.questions == test_list[i]].index[0]\n",
    "    test_index.append(idx)\n",
    "test_index"
   ]
  },
  {
   "cell_type": "code",
   "execution_count": 24,
   "metadata": {},
   "outputs": [],
   "source": [
    "train_index = [i for i in df1.index if i not in test_index]"
   ]
  },
  {
   "cell_type": "code",
   "execution_count": 25,
   "metadata": {},
   "outputs": [
    {
     "data": {
      "text/plain": [
       "'hi there is anyone hey hola hello good day what your name are you who pls bye see later goodbye nice chatting to till next time thanks thank thats helpful awesome for helping me how can help do provide be support offered know about tennis tell really lot exactly mean by guide through the top player in list best general rule of playing kit need get started wear beginner full will each line on court whats why so many where base serf first decide serve anybody service stand anywhere game type different explain happen if end same score tiebreak doe work winner when tie break counted scoring board count match format we just keep tired set stop played'"
      ]
     },
     "execution_count": 25,
     "metadata": {},
     "output_type": "execute_result"
    }
   ],
   "source": [
    "' '.join(list(vocab.keys()))"
   ]
  },
  {
   "cell_type": "code",
   "execution_count": 26,
   "metadata": {},
   "outputs": [],
   "source": [
    "def encoder(df,feature):\n",
    "#     text = ' '.join(list(vocab.keys()))\n",
    "    t = Tokenizer()\n",
    "    entries = [entry for entry in df[feature]]\n",
    "    t.fit_on_texts(entries)\n",
    "    joblib.dump(t,'tokenizer_t.pkl')\n",
    "    vocab_size = len(t.word_index) + 1\n",
    "    entries = [entry for entry in df[feature]]\n",
    "    max_length = max([len(s.split()) for s in entries])\n",
    "    encoded = t.texts_to_sequences(entries)\n",
    "    padded = pad_sequences(encoded, maxlen=max_length, padding='post')\n",
    "    return padded, vocab_size"
   ]
  },
  {
   "cell_type": "code",
   "execution_count": 27,
   "metadata": {},
   "outputs": [],
   "source": [
    "X,vocab_size = encoder(df1,'questions')"
   ]
  },
  {
   "cell_type": "code",
   "execution_count": 28,
   "metadata": {},
   "outputs": [],
   "source": [
    "df_encoded = pd.DataFrame(X)"
   ]
  },
  {
   "cell_type": "code",
   "execution_count": 29,
   "metadata": {},
   "outputs": [
    {
     "data": {
      "text/html": [
       "<div>\n",
       "<style scoped>\n",
       "    .dataframe tbody tr th:only-of-type {\n",
       "        vertical-align: middle;\n",
       "    }\n",
       "\n",
       "    .dataframe tbody tr th {\n",
       "        vertical-align: top;\n",
       "    }\n",
       "\n",
       "    .dataframe thead th {\n",
       "        text-align: right;\n",
       "    }\n",
       "</style>\n",
       "<table border=\"1\" class=\"dataframe\">\n",
       "  <thead>\n",
       "    <tr style=\"text-align: right;\">\n",
       "      <th></th>\n",
       "      <th>0</th>\n",
       "      <th>1</th>\n",
       "      <th>2</th>\n",
       "      <th>3</th>\n",
       "      <th>4</th>\n",
       "      <th>5</th>\n",
       "      <th>6</th>\n",
       "      <th>7</th>\n",
       "      <th>8</th>\n",
       "      <th>9</th>\n",
       "      <th>10</th>\n",
       "      <th>11</th>\n",
       "      <th>12</th>\n",
       "      <th>13</th>\n",
       "      <th>14</th>\n",
       "      <th>15</th>\n",
       "      <th>labels</th>\n",
       "    </tr>\n",
       "  </thead>\n",
       "  <tbody>\n",
       "    <tr>\n",
       "      <th>0</th>\n",
       "      <td>44</td>\n",
       "      <td>23</td>\n",
       "      <td>0</td>\n",
       "      <td>0</td>\n",
       "      <td>0</td>\n",
       "      <td>0</td>\n",
       "      <td>0</td>\n",
       "      <td>0</td>\n",
       "      <td>0</td>\n",
       "      <td>0</td>\n",
       "      <td>0</td>\n",
       "      <td>0</td>\n",
       "      <td>0</td>\n",
       "      <td>0</td>\n",
       "      <td>0</td>\n",
       "      <td>0</td>\n",
       "      <td>start_conversation</td>\n",
       "    </tr>\n",
       "    <tr>\n",
       "      <th>1</th>\n",
       "      <td>13</td>\n",
       "      <td>65</td>\n",
       "      <td>23</td>\n",
       "      <td>0</td>\n",
       "      <td>0</td>\n",
       "      <td>0</td>\n",
       "      <td>0</td>\n",
       "      <td>0</td>\n",
       "      <td>0</td>\n",
       "      <td>0</td>\n",
       "      <td>0</td>\n",
       "      <td>0</td>\n",
       "      <td>0</td>\n",
       "      <td>0</td>\n",
       "      <td>0</td>\n",
       "      <td>0</td>\n",
       "      <td>start_conversation</td>\n",
       "    </tr>\n",
       "    <tr>\n",
       "      <th>2</th>\n",
       "      <td>66</td>\n",
       "      <td>0</td>\n",
       "      <td>0</td>\n",
       "      <td>0</td>\n",
       "      <td>0</td>\n",
       "      <td>0</td>\n",
       "      <td>0</td>\n",
       "      <td>0</td>\n",
       "      <td>0</td>\n",
       "      <td>0</td>\n",
       "      <td>0</td>\n",
       "      <td>0</td>\n",
       "      <td>0</td>\n",
       "      <td>0</td>\n",
       "      <td>0</td>\n",
       "      <td>0</td>\n",
       "      <td>start_conversation</td>\n",
       "    </tr>\n",
       "    <tr>\n",
       "      <th>3</th>\n",
       "      <td>67</td>\n",
       "      <td>0</td>\n",
       "      <td>0</td>\n",
       "      <td>0</td>\n",
       "      <td>0</td>\n",
       "      <td>0</td>\n",
       "      <td>0</td>\n",
       "      <td>0</td>\n",
       "      <td>0</td>\n",
       "      <td>0</td>\n",
       "      <td>0</td>\n",
       "      <td>0</td>\n",
       "      <td>0</td>\n",
       "      <td>0</td>\n",
       "      <td>0</td>\n",
       "      <td>0</td>\n",
       "      <td>start_conversation</td>\n",
       "    </tr>\n",
       "    <tr>\n",
       "      <th>4</th>\n",
       "      <td>68</td>\n",
       "      <td>0</td>\n",
       "      <td>0</td>\n",
       "      <td>0</td>\n",
       "      <td>0</td>\n",
       "      <td>0</td>\n",
       "      <td>0</td>\n",
       "      <td>0</td>\n",
       "      <td>0</td>\n",
       "      <td>0</td>\n",
       "      <td>0</td>\n",
       "      <td>0</td>\n",
       "      <td>0</td>\n",
       "      <td>0</td>\n",
       "      <td>0</td>\n",
       "      <td>0</td>\n",
       "      <td>start_conversation</td>\n",
       "    </tr>\n",
       "  </tbody>\n",
       "</table>\n",
       "</div>"
      ],
      "text/plain": [
       "    0   1   2  3  4  5  6  7  8  9  10  11  12  13  14  15              labels\n",
       "0  44  23   0  0  0  0  0  0  0  0   0   0   0   0   0   0  start_conversation\n",
       "1  13  65  23  0  0  0  0  0  0  0   0   0   0   0   0   0  start_conversation\n",
       "2  66   0   0  0  0  0  0  0  0  0   0   0   0   0   0   0  start_conversation\n",
       "3  67   0   0  0  0  0  0  0  0  0   0   0   0   0   0   0  start_conversation\n",
       "4  68   0   0  0  0  0  0  0  0  0   0   0   0   0   0   0  start_conversation"
      ]
     },
     "execution_count": 29,
     "metadata": {},
     "output_type": "execute_result"
    }
   ],
   "source": [
    "df_encoded['labels'] = df1.labels\n",
    "df_encoded.head()"
   ]
  },
  {
   "cell_type": "code",
   "execution_count": 30,
   "metadata": {},
   "outputs": [],
   "source": [
    "for i in range(0,2):\n",
    "    dt = [0]*16\n",
    "    dt.append('confused')\n",
    "    dt = [dt]\n",
    "    pd.DataFrame(dt).rename(columns = {16:'labels'})\n",
    "    df_encoded = df_encoded.append(pd.DataFrame(dt).rename(columns = {16:'labels'}),ignore_index=True)"
   ]
  },
  {
   "cell_type": "code",
   "execution_count": 31,
   "metadata": {},
   "outputs": [
    {
     "data": {
      "text/html": [
       "<div>\n",
       "<style scoped>\n",
       "    .dataframe tbody tr th:only-of-type {\n",
       "        vertical-align: middle;\n",
       "    }\n",
       "\n",
       "    .dataframe tbody tr th {\n",
       "        vertical-align: top;\n",
       "    }\n",
       "\n",
       "    .dataframe thead th {\n",
       "        text-align: right;\n",
       "    }\n",
       "</style>\n",
       "<table border=\"1\" class=\"dataframe\">\n",
       "  <thead>\n",
       "    <tr style=\"text-align: right;\">\n",
       "      <th></th>\n",
       "      <th>0</th>\n",
       "      <th>1</th>\n",
       "      <th>2</th>\n",
       "      <th>3</th>\n",
       "      <th>4</th>\n",
       "      <th>5</th>\n",
       "      <th>6</th>\n",
       "      <th>7</th>\n",
       "      <th>8</th>\n",
       "      <th>9</th>\n",
       "      <th>10</th>\n",
       "      <th>11</th>\n",
       "      <th>12</th>\n",
       "      <th>13</th>\n",
       "      <th>14</th>\n",
       "      <th>15</th>\n",
       "      <th>labels</th>\n",
       "    </tr>\n",
       "  </thead>\n",
       "  <tbody>\n",
       "    <tr>\n",
       "      <th>84</th>\n",
       "      <td>9</td>\n",
       "      <td>40</td>\n",
       "      <td>63</td>\n",
       "      <td>64</td>\n",
       "      <td>5</td>\n",
       "      <td>23</td>\n",
       "      <td>7</td>\n",
       "      <td>1</td>\n",
       "      <td>0</td>\n",
       "      <td>0</td>\n",
       "      <td>0</td>\n",
       "      <td>0</td>\n",
       "      <td>0</td>\n",
       "      <td>0</td>\n",
       "      <td>0</td>\n",
       "      <td>0</td>\n",
       "      <td>match_format</td>\n",
       "    </tr>\n",
       "    <tr>\n",
       "      <th>85</th>\n",
       "      <td>61</td>\n",
       "      <td>6</td>\n",
       "      <td>43</td>\n",
       "      <td>117</td>\n",
       "      <td>36</td>\n",
       "      <td>0</td>\n",
       "      <td>0</td>\n",
       "      <td>0</td>\n",
       "      <td>0</td>\n",
       "      <td>0</td>\n",
       "      <td>0</td>\n",
       "      <td>0</td>\n",
       "      <td>0</td>\n",
       "      <td>0</td>\n",
       "      <td>0</td>\n",
       "      <td>0</td>\n",
       "      <td>match_format</td>\n",
       "    </tr>\n",
       "    <tr>\n",
       "      <th>86</th>\n",
       "      <td>9</td>\n",
       "      <td>40</td>\n",
       "      <td>64</td>\n",
       "      <td>10</td>\n",
       "      <td>25</td>\n",
       "      <td>118</td>\n",
       "      <td>0</td>\n",
       "      <td>0</td>\n",
       "      <td>0</td>\n",
       "      <td>0</td>\n",
       "      <td>0</td>\n",
       "      <td>0</td>\n",
       "      <td>0</td>\n",
       "      <td>0</td>\n",
       "      <td>0</td>\n",
       "      <td>0</td>\n",
       "      <td>match_format</td>\n",
       "    </tr>\n",
       "    <tr>\n",
       "      <th>87</th>\n",
       "      <td>0</td>\n",
       "      <td>0</td>\n",
       "      <td>0</td>\n",
       "      <td>0</td>\n",
       "      <td>0</td>\n",
       "      <td>0</td>\n",
       "      <td>0</td>\n",
       "      <td>0</td>\n",
       "      <td>0</td>\n",
       "      <td>0</td>\n",
       "      <td>0</td>\n",
       "      <td>0</td>\n",
       "      <td>0</td>\n",
       "      <td>0</td>\n",
       "      <td>0</td>\n",
       "      <td>0</td>\n",
       "      <td>confused</td>\n",
       "    </tr>\n",
       "    <tr>\n",
       "      <th>88</th>\n",
       "      <td>0</td>\n",
       "      <td>0</td>\n",
       "      <td>0</td>\n",
       "      <td>0</td>\n",
       "      <td>0</td>\n",
       "      <td>0</td>\n",
       "      <td>0</td>\n",
       "      <td>0</td>\n",
       "      <td>0</td>\n",
       "      <td>0</td>\n",
       "      <td>0</td>\n",
       "      <td>0</td>\n",
       "      <td>0</td>\n",
       "      <td>0</td>\n",
       "      <td>0</td>\n",
       "      <td>0</td>\n",
       "      <td>confused</td>\n",
       "    </tr>\n",
       "  </tbody>\n",
       "</table>\n",
       "</div>"
      ],
      "text/plain": [
       "     0   1   2    3   4    5  6  7  8  9  10  11  12  13  14  15        labels\n",
       "84   9  40  63   64   5   23  7  1  0  0   0   0   0   0   0   0  match_format\n",
       "85  61   6  43  117  36    0  0  0  0  0   0   0   0   0   0   0  match_format\n",
       "86   9  40  64   10  25  118  0  0  0  0   0   0   0   0   0   0  match_format\n",
       "87   0   0   0    0   0    0  0  0  0  0   0   0   0   0   0   0      confused\n",
       "88   0   0   0    0   0    0  0  0  0  0   0   0   0   0   0   0      confused"
      ]
     },
     "execution_count": 31,
     "metadata": {},
     "output_type": "execute_result"
    }
   ],
   "source": [
    "df_encoded.tail()"
   ]
  },
  {
   "cell_type": "code",
   "execution_count": 32,
   "metadata": {},
   "outputs": [],
   "source": [
    "train_index.append(87)"
   ]
  },
  {
   "cell_type": "code",
   "execution_count": 33,
   "metadata": {},
   "outputs": [],
   "source": [
    "test_index.append(88)"
   ]
  },
  {
   "cell_type": "code",
   "execution_count": 34,
   "metadata": {},
   "outputs": [],
   "source": [
    "# df_encoded = df_encoded.append(pd.DataFrame(dt).rename(columns = {16:'labels'}),ignore_index=True)"
   ]
  },
  {
   "cell_type": "code",
   "execution_count": 35,
   "metadata": {},
   "outputs": [],
   "source": [
    "from sklearn.preprocessing import LabelEncoder\n",
    "lable_enc = LabelEncoder()"
   ]
  },
  {
   "cell_type": "code",
   "execution_count": 36,
   "metadata": {},
   "outputs": [
    {
     "data": {
      "text/plain": [
       "array([11, 11, 11, 11, 11, 11, 11, 16, 16, 16, 16,  3,  3,  3,  3,  3, 13,\n",
       "       13, 13, 13, 13,  8,  8,  8,  8,  8,  8,  8,  8,  0,  0,  0,  0,  0,\n",
       "       15, 15, 15, 15, 15, 15,  5,  5,  5,  5,  5,  6,  6,  6,  6,  6,  6,\n",
       "        6,  6,  6,  6,  2,  2,  2,  4,  4,  4,  4, 10, 10, 10, 10, 10, 10,\n",
       "       12, 12, 12, 12, 14, 14, 14, 14, 14,  9,  9,  9,  9,  9,  7,  7,  7,\n",
       "        7,  7,  1,  1])"
      ]
     },
     "execution_count": 36,
     "metadata": {},
     "output_type": "execute_result"
    }
   ],
   "source": [
    "labl = lable_enc.fit_transform(df_encoded.labels)\n",
    "labl"
   ]
  },
  {
   "cell_type": "code",
   "execution_count": 37,
   "metadata": {},
   "outputs": [
    {
     "data": {
      "text/plain": [
       "{'start_conversation': 11,\n",
       " 'what_are_you': 16,\n",
       " 'end_conversation': 3,\n",
       " 'thanks': 13,\n",
       " 'options': 8,\n",
       " 'bot_scope': 0,\n",
       " 'top_players': 15,\n",
       " 'general_rules': 5,\n",
       " 'kits': 6,\n",
       " 'court_lines': 2,\n",
       " 'first_server': 4,\n",
       " 'serving_rules': 10,\n",
       " 'tennis_games': 12,\n",
       " 'tie_break': 14,\n",
       " 'scoring': 9,\n",
       " 'match_format': 7,\n",
       " 'confused': 1}"
      ]
     },
     "execution_count": 37,
     "metadata": {},
     "output_type": "execute_result"
    }
   ],
   "source": [
    "mapper = {}\n",
    "for index,key in enumerate(df_encoded.labels):\n",
    "    if key not in mapper.keys():\n",
    "        mapper[key] = labl[index]\n",
    "mapper"
   ]
  },
  {
   "cell_type": "code",
   "execution_count": 38,
   "metadata": {},
   "outputs": [
    {
     "data": {
      "text/html": [
       "<div>\n",
       "<style scoped>\n",
       "    .dataframe tbody tr th:only-of-type {\n",
       "        vertical-align: middle;\n",
       "    }\n",
       "\n",
       "    .dataframe tbody tr th {\n",
       "        vertical-align: top;\n",
       "    }\n",
       "\n",
       "    .dataframe thead th {\n",
       "        text-align: right;\n",
       "    }\n",
       "</style>\n",
       "<table border=\"1\" class=\"dataframe\">\n",
       "  <thead>\n",
       "    <tr style=\"text-align: right;\">\n",
       "      <th></th>\n",
       "      <th>response</th>\n",
       "      <th>labels</th>\n",
       "    </tr>\n",
       "  </thead>\n",
       "  <tbody>\n",
       "    <tr>\n",
       "      <th>0</th>\n",
       "      <td>Hello, I'm sure you love tennis</td>\n",
       "      <td>start_conversation</td>\n",
       "    </tr>\n",
       "    <tr>\n",
       "      <th>1</th>\n",
       "      <td>Happy to have you here</td>\n",
       "      <td>start_conversation</td>\n",
       "    </tr>\n",
       "    <tr>\n",
       "      <th>2</th>\n",
       "      <td>Good to see you again</td>\n",
       "      <td>start_conversation</td>\n",
       "    </tr>\n",
       "    <tr>\n",
       "      <th>3</th>\n",
       "      <td>Hi there, how can I help?</td>\n",
       "      <td>start_conversation</td>\n",
       "    </tr>\n",
       "    <tr>\n",
       "      <th>4</th>\n",
       "      <td>Hi, I'm  BoTennis</td>\n",
       "      <td>what_are_you</td>\n",
       "    </tr>\n",
       "  </tbody>\n",
       "</table>\n",
       "</div>"
      ],
      "text/plain": [
       "                          response              labels\n",
       "0  Hello, I'm sure you love tennis  start_conversation\n",
       "1           Happy to have you here  start_conversation\n",
       "2            Good to see you again  start_conversation\n",
       "3        Hi there, how can I help?  start_conversation\n",
       "4                Hi, I'm  BoTennis        what_are_you"
      ]
     },
     "execution_count": 38,
     "metadata": {},
     "output_type": "execute_result"
    }
   ],
   "source": [
    "df2.head()"
   ]
  },
  {
   "cell_type": "code",
   "execution_count": 39,
   "metadata": {},
   "outputs": [
    {
     "data": {
      "text/html": [
       "<div>\n",
       "<style scoped>\n",
       "    .dataframe tbody tr th:only-of-type {\n",
       "        vertical-align: middle;\n",
       "    }\n",
       "\n",
       "    .dataframe tbody tr th {\n",
       "        vertical-align: top;\n",
       "    }\n",
       "\n",
       "    .dataframe thead th {\n",
       "        text-align: right;\n",
       "    }\n",
       "</style>\n",
       "<table border=\"1\" class=\"dataframe\">\n",
       "  <thead>\n",
       "    <tr style=\"text-align: right;\">\n",
       "      <th></th>\n",
       "      <th>response</th>\n",
       "      <th>labels</th>\n",
       "    </tr>\n",
       "  </thead>\n",
       "  <tbody>\n",
       "    <tr>\n",
       "      <th>0</th>\n",
       "      <td>Hello, I'm sure you love tennis</td>\n",
       "      <td>11</td>\n",
       "    </tr>\n",
       "    <tr>\n",
       "      <th>1</th>\n",
       "      <td>Happy to have you here</td>\n",
       "      <td>11</td>\n",
       "    </tr>\n",
       "    <tr>\n",
       "      <th>2</th>\n",
       "      <td>Good to see you again</td>\n",
       "      <td>11</td>\n",
       "    </tr>\n",
       "    <tr>\n",
       "      <th>3</th>\n",
       "      <td>Hi there, how can I help?</td>\n",
       "      <td>11</td>\n",
       "    </tr>\n",
       "    <tr>\n",
       "      <th>4</th>\n",
       "      <td>Hi, I'm  BoTennis</td>\n",
       "      <td>16</td>\n",
       "    </tr>\n",
       "  </tbody>\n",
       "</table>\n",
       "</div>"
      ],
      "text/plain": [
       "                          response  labels\n",
       "0  Hello, I'm sure you love tennis      11\n",
       "1           Happy to have you here      11\n",
       "2            Good to see you again      11\n",
       "3        Hi there, how can I help?      11\n",
       "4                Hi, I'm  BoTennis      16"
      ]
     },
     "execution_count": 39,
     "metadata": {},
     "output_type": "execute_result"
    }
   ],
   "source": [
    "df2.labels = df2.labels.map(mapper).astype({'labels': 'int32'})\n",
    "df2.head()"
   ]
  },
  {
   "cell_type": "code",
   "execution_count": 40,
   "metadata": {},
   "outputs": [],
   "source": [
    "df2.to_csv('response.csv',index=False)"
   ]
  },
  {
   "cell_type": "code",
   "execution_count": 41,
   "metadata": {},
   "outputs": [],
   "source": [
    "# df2.groupby('labels').get_group(11)"
   ]
  },
  {
   "cell_type": "code",
   "execution_count": 42,
   "metadata": {},
   "outputs": [],
   "source": [
    "train = df_encoded.loc[train_index]\n",
    "test = df_encoded.loc[test_index]"
   ]
  },
  {
   "cell_type": "code",
   "execution_count": 43,
   "metadata": {},
   "outputs": [],
   "source": [
    "X_train = train.drop(columns=['labels'],axis=1)\n",
    "y_train = train.labels\n",
    "X_test = test.drop(columns=['labels'],axis=1)\n",
    "y_test = test.labels"
   ]
  },
  {
   "cell_type": "code",
   "execution_count": 44,
   "metadata": {},
   "outputs": [],
   "source": [
    "y_train =pd.get_dummies(y_train).values\n",
    "y_test =pd.get_dummies(y_test).values"
   ]
  },
  {
   "cell_type": "code",
   "execution_count": 45,
   "metadata": {},
   "outputs": [
    {
     "data": {
      "text/plain": [
       "((17,), (17,))"
      ]
     },
     "execution_count": 45,
     "metadata": {},
     "output_type": "execute_result"
    }
   ],
   "source": [
    "y_train[0].shape,y_test[0].shape"
   ]
  },
  {
   "cell_type": "code",
   "execution_count": 46,
   "metadata": {},
   "outputs": [
    {
     "data": {
      "text/plain": [
       "(72, 16)"
      ]
     },
     "execution_count": 46,
     "metadata": {},
     "output_type": "execute_result"
    }
   ],
   "source": [
    "X_train.shape"
   ]
  },
  {
   "cell_type": "code",
   "execution_count": 47,
   "metadata": {},
   "outputs": [],
   "source": [
    "max_length = X_train.shape[1]\n",
    "# output = len(df3.labels.unique())\n",
    "output = 17"
   ]
  },
  {
   "cell_type": "code",
   "execution_count": 48,
   "metadata": {},
   "outputs": [],
   "source": [
    "# def define_model(vocab_size, max_length):\n",
    "#     model = Sequential()\n",
    "#     model.add(Embedding(vocab_size,300, input_length=max_length))\n",
    "#     model.add(Conv1D(filters=64, kernel_size=6, activation='relu'))\n",
    "#     model.add(MaxPooling1D(pool_size=4))\n",
    "#     model.add(Flatten())\n",
    "# #     model.add(Dense(32, activation='relu'))\n",
    "#     model.add(Dense(16, activation='softmax'))\n",
    "    \n",
    "#     # compile network\n",
    "#     model.compile(loss='categorical_crossentropy', optimizer='adam', metrics=['accuracy'])\n",
    "#     # summarize defined model\n",
    "#     model.summary()\n",
    "# #     plot_model(model, to_file='model.png', show_shapes=True)\n",
    "#     return model"
   ]
  },
  {
   "cell_type": "code",
   "execution_count": 49,
   "metadata": {},
   "outputs": [
    {
     "data": {
      "text/plain": [
       "16"
      ]
     },
     "execution_count": 49,
     "metadata": {},
     "output_type": "execute_result"
    }
   ],
   "source": [
    "max_length"
   ]
  },
  {
   "cell_type": "code",
   "execution_count": 50,
   "metadata": {},
   "outputs": [],
   "source": [
    "early_stopping = EarlyStopping(monitor='val_loss',patience=10)\n",
    "checkpoint = ModelCheckpoint(\"model-v1.h5\",\n",
    "                             monitor=\"val_loss\",\n",
    "                             mode=\"min\",\n",
    "                             save_best_only = True,\n",
    "                             verbose=1)\n",
    "reduce_lr = ReduceLROnPlateau(monitor = 'val_loss', factor = 0.2, patience = 3, verbose = 1, min_delta = 0.0001)\n",
    "callbacks = [early_stopping,checkpoint,reduce_lr]\n",
    "    \n",
    "    "
   ]
  },
  {
   "cell_type": "code",
   "execution_count": 51,
   "metadata": {},
   "outputs": [],
   "source": [
    "\n",
    "def define_model(vocab_size, max_length):\n",
    "    model = Sequential()\n",
    "    model.add(Embedding(vocab_size,300, input_length=max_length))\n",
    "    model.add(Conv1D(filters=64, kernel_size=4, activation='relu'))\n",
    "    model.add(MaxPooling1D(pool_size=8))\n",
    "    model.add(Flatten())\n",
    "#     model.add(Dense(32, activation='relu'))\n",
    "    model.add(Dense(17, activation='softmax'))\n",
    "    \n",
    "    \n",
    "    # compile network\n",
    "#     model.compile(loss='categorical_crossentropy', optimizer='adam', metrics=['accuracy'])\n",
    "    model.compile(loss = 'categorical_crossentropy',\n",
    "              # optimizer = Adam(lr=0.001),\n",
    "              optimizer = 'adam',\n",
    "              metrics = ['accuracy'])\n",
    "    \n",
    "    # summarize defined model\n",
    "    model.summary()\n",
    "#     plot_model(model, to_file='model.png', show_shapes=True)\n",
    "    return model"
   ]
  },
  {
   "cell_type": "code",
   "execution_count": 52,
   "metadata": {},
   "outputs": [
    {
     "name": "stdout",
     "output_type": "stream",
     "text": [
      "Model: \"sequential\"\n",
      "_________________________________________________________________\n",
      "Layer (type)                 Output Shape              Param #   \n",
      "=================================================================\n",
      "embedding (Embedding)        (None, 16, 300)           35700     \n",
      "_________________________________________________________________\n",
      "conv1d (Conv1D)              (None, 13, 64)            76864     \n",
      "_________________________________________________________________\n",
      "max_pooling1d (MaxPooling1D) (None, 1, 64)             0         \n",
      "_________________________________________________________________\n",
      "flatten (Flatten)            (None, 64)                0         \n",
      "_________________________________________________________________\n",
      "dense (Dense)                (None, 17)                1105      \n",
      "=================================================================\n",
      "Total params: 113,669\n",
      "Trainable params: 113,669\n",
      "Non-trainable params: 0\n",
      "_________________________________________________________________\n"
     ]
    }
   ],
   "source": [
    "# define model\n",
    "model = define_model(vocab_size, max_length)"
   ]
  },
  {
   "cell_type": "code",
   "execution_count": 53,
   "metadata": {},
   "outputs": [
    {
     "name": "stdout",
     "output_type": "stream",
     "text": [
      "Epoch 1/500\n",
      "3/3 [==============================] - 22s 325ms/step - loss: 2.8374 - accuracy: 0.0556 - val_loss: 2.7999 - val_accuracy: 0.2941\n",
      "\n",
      "Epoch 00001: val_loss improved from inf to 2.79995, saving model to model-v1.h5\n",
      "Epoch 2/500\n",
      "3/3 [==============================] - 0s 29ms/step - loss: 2.7526 - accuracy: 0.3472 - val_loss: 2.7699 - val_accuracy: 0.1765\n",
      "\n",
      "Epoch 00002: val_loss improved from 2.79995 to 2.76990, saving model to model-v1.h5\n",
      "Epoch 3/500\n",
      "3/3 [==============================] - 0s 33ms/step - loss: 2.6936 - accuracy: 0.4167 - val_loss: 2.7417 - val_accuracy: 0.2353\n",
      "\n",
      "Epoch 00003: val_loss improved from 2.76990 to 2.74169, saving model to model-v1.h5\n",
      "Epoch 4/500\n",
      "3/3 [==============================] - 0s 23ms/step - loss: 2.6357 - accuracy: 0.5278 - val_loss: 2.7113 - val_accuracy: 0.2941\n",
      "\n",
      "Epoch 00004: val_loss improved from 2.74169 to 2.71130, saving model to model-v1.h5\n",
      "Epoch 5/500\n",
      "3/3 [==============================] - 0s 18ms/step - loss: 2.5781 - accuracy: 0.6111 - val_loss: 2.6796 - val_accuracy: 0.3529\n",
      "\n",
      "Epoch 00005: val_loss improved from 2.71130 to 2.67962, saving model to model-v1.h5\n",
      "Epoch 6/500\n",
      "3/3 [==============================] - 0s 16ms/step - loss: 2.5163 - accuracy: 0.6667 - val_loss: 2.6461 - val_accuracy: 0.3529\n",
      "\n",
      "Epoch 00006: val_loss improved from 2.67962 to 2.64609, saving model to model-v1.h5\n",
      "Epoch 7/500\n",
      "3/3 [==============================] - 0s 16ms/step - loss: 2.4506 - accuracy: 0.6806 - val_loss: 2.6122 - val_accuracy: 0.3529\n",
      "\n",
      "Epoch 00007: val_loss improved from 2.64609 to 2.61223, saving model to model-v1.h5\n",
      "Epoch 8/500\n",
      "3/3 [==============================] - 0s 17ms/step - loss: 2.3817 - accuracy: 0.7083 - val_loss: 2.5786 - val_accuracy: 0.3529\n",
      "\n",
      "Epoch 00008: val_loss improved from 2.61223 to 2.57860, saving model to model-v1.h5\n",
      "Epoch 9/500\n",
      "3/3 [==============================] - 0s 18ms/step - loss: 2.3103 - accuracy: 0.7222 - val_loss: 2.5438 - val_accuracy: 0.2941\n",
      "\n",
      "Epoch 00009: val_loss improved from 2.57860 to 2.54378, saving model to model-v1.h5\n",
      "Epoch 10/500\n",
      "3/3 [==============================] - 0s 18ms/step - loss: 2.2319 - accuracy: 0.7361 - val_loss: 2.5007 - val_accuracy: 0.4118\n",
      "\n",
      "Epoch 00010: val_loss improved from 2.54378 to 2.50069, saving model to model-v1.h5\n",
      "Epoch 11/500\n",
      "3/3 [==============================] - 0s 15ms/step - loss: 2.1493 - accuracy: 0.7639 - val_loss: 2.4535 - val_accuracy: 0.4706\n",
      "\n",
      "Epoch 00011: val_loss improved from 2.50069 to 2.45352, saving model to model-v1.h5\n",
      "Epoch 12/500\n",
      "3/3 [==============================] - 0s 16ms/step - loss: 2.0634 - accuracy: 0.7917 - val_loss: 2.4027 - val_accuracy: 0.5294\n",
      "\n",
      "Epoch 00012: val_loss improved from 2.45352 to 2.40271, saving model to model-v1.h5\n",
      "Epoch 13/500\n",
      "3/3 [==============================] - 0s 23ms/step - loss: 1.9684 - accuracy: 0.8056 - val_loss: 2.3488 - val_accuracy: 0.5294\n",
      "\n",
      "Epoch 00013: val_loss improved from 2.40271 to 2.34881, saving model to model-v1.h5\n",
      "Epoch 14/500\n",
      "3/3 [==============================] - 0s 17ms/step - loss: 1.8689 - accuracy: 0.8194 - val_loss: 2.2912 - val_accuracy: 0.5294\n",
      "\n",
      "Epoch 00014: val_loss improved from 2.34881 to 2.29119, saving model to model-v1.h5\n",
      "Epoch 15/500\n",
      "3/3 [==============================] - 0s 28ms/step - loss: 1.7614 - accuracy: 0.8194 - val_loss: 2.2304 - val_accuracy: 0.5882\n",
      "\n",
      "Epoch 00015: val_loss improved from 2.29119 to 2.23037, saving model to model-v1.h5\n",
      "Epoch 16/500\n",
      "3/3 [==============================] - 0s 28ms/step - loss: 1.6556 - accuracy: 0.8472 - val_loss: 2.1654 - val_accuracy: 0.5882\n",
      "\n",
      "Epoch 00016: val_loss improved from 2.23037 to 2.16542, saving model to model-v1.h5\n",
      "Epoch 17/500\n",
      "3/3 [==============================] - 0s 24ms/step - loss: 1.5439 - accuracy: 0.8472 - val_loss: 2.0973 - val_accuracy: 0.5882\n",
      "\n",
      "Epoch 00017: val_loss improved from 2.16542 to 2.09727, saving model to model-v1.h5\n",
      "Epoch 18/500\n",
      "3/3 [==============================] - 0s 22ms/step - loss: 1.4287 - accuracy: 0.8750 - val_loss: 2.0307 - val_accuracy: 0.5882\n",
      "\n",
      "Epoch 00018: val_loss improved from 2.09727 to 2.03071, saving model to model-v1.h5\n",
      "Epoch 19/500\n",
      "3/3 [==============================] - 0s 22ms/step - loss: 1.3139 - accuracy: 0.8750 - val_loss: 1.9608 - val_accuracy: 0.5882\n",
      "\n",
      "Epoch 00019: val_loss improved from 2.03071 to 1.96084, saving model to model-v1.h5\n",
      "Epoch 20/500\n",
      "3/3 [==============================] - 0s 17ms/step - loss: 1.1997 - accuracy: 0.8889 - val_loss: 1.8883 - val_accuracy: 0.5882\n",
      "\n",
      "Epoch 00020: val_loss improved from 1.96084 to 1.88831, saving model to model-v1.h5\n",
      "Epoch 21/500\n",
      "3/3 [==============================] - 0s 60ms/step - loss: 1.0935 - accuracy: 0.9028 - val_loss: 1.8163 - val_accuracy: 0.5882\n",
      "\n",
      "Epoch 00021: val_loss improved from 1.88831 to 1.81626, saving model to model-v1.h5\n",
      "Epoch 22/500\n",
      "3/3 [==============================] - 0s 29ms/step - loss: 0.9885 - accuracy: 0.9306 - val_loss: 1.7428 - val_accuracy: 0.6471\n",
      "\n",
      "Epoch 00022: val_loss improved from 1.81626 to 1.74276, saving model to model-v1.h5\n",
      "Epoch 23/500\n",
      "3/3 [==============================] - 0s 26ms/step - loss: 0.8883 - accuracy: 0.9722 - val_loss: 1.6751 - val_accuracy: 0.7059\n",
      "\n",
      "Epoch 00023: val_loss improved from 1.74276 to 1.67513, saving model to model-v1.h5\n",
      "Epoch 24/500\n",
      "3/3 [==============================] - 0s 65ms/step - loss: 0.7967 - accuracy: 0.9722 - val_loss: 1.6115 - val_accuracy: 0.7059\n",
      "\n",
      "Epoch 00024: val_loss improved from 1.67513 to 1.61147, saving model to model-v1.h5\n",
      "Epoch 25/500\n",
      "3/3 [==============================] - 0s 57ms/step - loss: 0.7086 - accuracy: 0.9722 - val_loss: 1.5462 - val_accuracy: 0.7059\n",
      "\n",
      "Epoch 00025: val_loss improved from 1.61147 to 1.54624, saving model to model-v1.h5\n",
      "Epoch 26/500\n",
      "3/3 [==============================] - 0s 54ms/step - loss: 0.6298 - accuracy: 0.9861 - val_loss: 1.4885 - val_accuracy: 0.7059\n",
      "\n",
      "Epoch 00026: val_loss improved from 1.54624 to 1.48846, saving model to model-v1.h5\n",
      "Epoch 27/500\n",
      "3/3 [==============================] - 0s 42ms/step - loss: 0.5557 - accuracy: 0.9861 - val_loss: 1.4306 - val_accuracy: 0.7059\n",
      "\n",
      "Epoch 00027: val_loss improved from 1.48846 to 1.43063, saving model to model-v1.h5\n",
      "Epoch 28/500\n",
      "3/3 [==============================] - 0s 31ms/step - loss: 0.4892 - accuracy: 0.9861 - val_loss: 1.3773 - val_accuracy: 0.7059\n",
      "\n",
      "Epoch 00028: val_loss improved from 1.43063 to 1.37730, saving model to model-v1.h5\n",
      "Epoch 29/500\n",
      "3/3 [==============================] - 0s 35ms/step - loss: 0.4293 - accuracy: 0.9861 - val_loss: 1.3297 - val_accuracy: 0.7059\n",
      "\n",
      "Epoch 00029: val_loss improved from 1.37730 to 1.32972, saving model to model-v1.h5\n",
      "Epoch 30/500\n",
      "3/3 [==============================] - 0s 30ms/step - loss: 0.3794 - accuracy: 0.9861 - val_loss: 1.2844 - val_accuracy: 0.7059\n",
      "\n",
      "Epoch 00030: val_loss improved from 1.32972 to 1.28439, saving model to model-v1.h5\n",
      "Epoch 31/500\n",
      "3/3 [==============================] - 0s 23ms/step - loss: 0.3328 - accuracy: 0.9861 - val_loss: 1.2430 - val_accuracy: 0.7059\n",
      "\n",
      "Epoch 00031: val_loss improved from 1.28439 to 1.24297, saving model to model-v1.h5\n",
      "Epoch 32/500\n",
      "3/3 [==============================] - 0s 25ms/step - loss: 0.2955 - accuracy: 0.9861 - val_loss: 1.2074 - val_accuracy: 0.7059\n",
      "\n",
      "Epoch 00032: val_loss improved from 1.24297 to 1.20743, saving model to model-v1.h5\n",
      "Epoch 33/500\n",
      "3/3 [==============================] - 0s 21ms/step - loss: 0.2634 - accuracy: 0.9861 - val_loss: 1.1779 - val_accuracy: 0.7059\n",
      "\n",
      "Epoch 00033: val_loss improved from 1.20743 to 1.17785, saving model to model-v1.h5\n",
      "Epoch 34/500\n",
      "3/3 [==============================] - 0s 19ms/step - loss: 0.2367 - accuracy: 0.9861 - val_loss: 1.1535 - val_accuracy: 0.7059\n",
      "\n",
      "Epoch 00034: val_loss improved from 1.17785 to 1.15348, saving model to model-v1.h5\n",
      "Epoch 35/500\n",
      "3/3 [==============================] - 0s 20ms/step - loss: 0.2140 - accuracy: 0.9861 - val_loss: 1.1258 - val_accuracy: 0.7059\n",
      "\n",
      "Epoch 00035: val_loss improved from 1.15348 to 1.12582, saving model to model-v1.h5\n",
      "Epoch 36/500\n",
      "3/3 [==============================] - 0s 19ms/step - loss: 0.1930 - accuracy: 0.9861 - val_loss: 1.0977 - val_accuracy: 0.7059\n",
      "\n",
      "Epoch 00036: val_loss improved from 1.12582 to 1.09769, saving model to model-v1.h5\n",
      "Epoch 37/500\n",
      "3/3 [==============================] - 0s 23ms/step - loss: 0.1752 - accuracy: 0.9861 - val_loss: 1.0734 - val_accuracy: 0.7059\n",
      "\n",
      "Epoch 00037: val_loss improved from 1.09769 to 1.07343, saving model to model-v1.h5\n",
      "Epoch 38/500\n",
      "3/3 [==============================] - 0s 19ms/step - loss: 0.1602 - accuracy: 0.9861 - val_loss: 1.0519 - val_accuracy: 0.7059\n",
      "\n",
      "Epoch 00038: val_loss improved from 1.07343 to 1.05189, saving model to model-v1.h5\n",
      "Epoch 39/500\n",
      "3/3 [==============================] - 0s 19ms/step - loss: 0.1477 - accuracy: 0.9861 - val_loss: 1.0301 - val_accuracy: 0.7059\n",
      "\n",
      "Epoch 00039: val_loss improved from 1.05189 to 1.03006, saving model to model-v1.h5\n",
      "Epoch 40/500\n",
      "3/3 [==============================] - 0s 19ms/step - loss: 0.1357 - accuracy: 0.9861 - val_loss: 1.0102 - val_accuracy: 0.7059\n",
      "\n",
      "Epoch 00040: val_loss improved from 1.03006 to 1.01021, saving model to model-v1.h5\n",
      "Epoch 41/500\n",
      "3/3 [==============================] - 0s 18ms/step - loss: 0.1263 - accuracy: 0.9861 - val_loss: 0.9910 - val_accuracy: 0.7059\n",
      "\n",
      "Epoch 00041: val_loss improved from 1.01021 to 0.99100, saving model to model-v1.h5\n",
      "Epoch 42/500\n",
      "3/3 [==============================] - 0s 26ms/step - loss: 0.1180 - accuracy: 0.9861 - val_loss: 0.9734 - val_accuracy: 0.7647\n",
      "\n",
      "Epoch 00042: val_loss improved from 0.99100 to 0.97342, saving model to model-v1.h5\n",
      "Epoch 43/500\n",
      "3/3 [==============================] - 0s 35ms/step - loss: 0.1098 - accuracy: 0.9861 - val_loss: 0.9582 - val_accuracy: 0.7647\n",
      "\n",
      "Epoch 00043: val_loss improved from 0.97342 to 0.95818, saving model to model-v1.h5\n",
      "Epoch 44/500\n",
      "3/3 [==============================] - 0s 32ms/step - loss: 0.1030 - accuracy: 0.9861 - val_loss: 0.9438 - val_accuracy: 0.7647\n",
      "\n",
      "Epoch 00044: val_loss improved from 0.95818 to 0.94378, saving model to model-v1.h5\n",
      "Epoch 45/500\n",
      "3/3 [==============================] - 0s 31ms/step - loss: 0.0969 - accuracy: 0.9861 - val_loss: 0.9303 - val_accuracy: 0.7647\n",
      "\n",
      "Epoch 00045: val_loss improved from 0.94378 to 0.93029, saving model to model-v1.h5\n",
      "Epoch 46/500\n",
      "3/3 [==============================] - 0s 18ms/step - loss: 0.0918 - accuracy: 0.9861 - val_loss: 0.9169 - val_accuracy: 0.7647\n",
      "\n",
      "Epoch 00046: val_loss improved from 0.93029 to 0.91689, saving model to model-v1.h5\n",
      "Epoch 47/500\n",
      "3/3 [==============================] - 0s 32ms/step - loss: 0.0869 - accuracy: 0.9861 - val_loss: 0.9035 - val_accuracy: 0.7647\n",
      "\n",
      "Epoch 00047: val_loss improved from 0.91689 to 0.90355, saving model to model-v1.h5\n",
      "Epoch 48/500\n",
      "3/3 [==============================] - 0s 32ms/step - loss: 0.0825 - accuracy: 0.9861 - val_loss: 0.8908 - val_accuracy: 0.7647\n",
      "\n",
      "Epoch 00048: val_loss improved from 0.90355 to 0.89083, saving model to model-v1.h5\n",
      "Epoch 49/500\n",
      "3/3 [==============================] - 0s 30ms/step - loss: 0.0784 - accuracy: 0.9861 - val_loss: 0.8747 - val_accuracy: 0.7647\n",
      "\n",
      "Epoch 00049: val_loss improved from 0.89083 to 0.87474, saving model to model-v1.h5\n",
      "Epoch 50/500\n",
      "3/3 [==============================] - 0s 66ms/step - loss: 0.0747 - accuracy: 0.9861 - val_loss: 0.8605 - val_accuracy: 0.7647\n",
      "\n",
      "Epoch 00050: val_loss improved from 0.87474 to 0.86051, saving model to model-v1.h5\n",
      "Epoch 51/500\n",
      "3/3 [==============================] - 0s 23ms/step - loss: 0.0708 - accuracy: 0.9861 - val_loss: 0.8486 - val_accuracy: 0.7647\n",
      "\n",
      "Epoch 00051: val_loss improved from 0.86051 to 0.84856, saving model to model-v1.h5\n",
      "Epoch 52/500\n",
      "3/3 [==============================] - 0s 20ms/step - loss: 0.0678 - accuracy: 0.9861 - val_loss: 0.8378 - val_accuracy: 0.7647\n",
      "\n",
      "Epoch 00052: val_loss improved from 0.84856 to 0.83784, saving model to model-v1.h5\n",
      "Epoch 53/500\n",
      "3/3 [==============================] - 0s 20ms/step - loss: 0.0647 - accuracy: 0.9861 - val_loss: 0.8282 - val_accuracy: 0.7647\n",
      "\n",
      "Epoch 00053: val_loss improved from 0.83784 to 0.82824, saving model to model-v1.h5\n",
      "Epoch 54/500\n",
      "3/3 [==============================] - 0s 20ms/step - loss: 0.0623 - accuracy: 0.9861 - val_loss: 0.8182 - val_accuracy: 0.7647\n",
      "\n",
      "Epoch 00054: val_loss improved from 0.82824 to 0.81820, saving model to model-v1.h5\n",
      "Epoch 55/500\n",
      "3/3 [==============================] - 0s 22ms/step - loss: 0.0596 - accuracy: 0.9861 - val_loss: 0.8087 - val_accuracy: 0.7647\n",
      "\n",
      "Epoch 00055: val_loss improved from 0.81820 to 0.80871, saving model to model-v1.h5\n",
      "Epoch 56/500\n",
      "3/3 [==============================] - 0s 29ms/step - loss: 0.0570 - accuracy: 0.9861 - val_loss: 0.7993 - val_accuracy: 0.7647\n",
      "\n",
      "Epoch 00056: val_loss improved from 0.80871 to 0.79929, saving model to model-v1.h5\n",
      "Epoch 57/500\n",
      "3/3 [==============================] - 0s 18ms/step - loss: 0.0549 - accuracy: 0.9861 - val_loss: 0.7906 - val_accuracy: 0.7647\n",
      "\n",
      "Epoch 00057: val_loss improved from 0.79929 to 0.79059, saving model to model-v1.h5\n",
      "Epoch 58/500\n",
      "3/3 [==============================] - 0s 18ms/step - loss: 0.0531 - accuracy: 0.9861 - val_loss: 0.7820 - val_accuracy: 0.7647\n",
      "\n",
      "Epoch 00058: val_loss improved from 0.79059 to 0.78205, saving model to model-v1.h5\n",
      "Epoch 59/500\n",
      "3/3 [==============================] - 0s 20ms/step - loss: 0.0510 - accuracy: 0.9861 - val_loss: 0.7741 - val_accuracy: 0.7647\n",
      "\n",
      "Epoch 00059: val_loss improved from 0.78205 to 0.77409, saving model to model-v1.h5\n",
      "Epoch 60/500\n",
      "3/3 [==============================] - 0s 25ms/step - loss: 0.0490 - accuracy: 0.9861 - val_loss: 0.7668 - val_accuracy: 0.7647\n",
      "\n",
      "Epoch 00060: val_loss improved from 0.77409 to 0.76676, saving model to model-v1.h5\n",
      "Epoch 61/500\n",
      "3/3 [==============================] - 0s 18ms/step - loss: 0.0472 - accuracy: 0.9861 - val_loss: 0.7602 - val_accuracy: 0.7647\n",
      "\n",
      "Epoch 00061: val_loss improved from 0.76676 to 0.76020, saving model to model-v1.h5\n",
      "Epoch 62/500\n",
      "3/3 [==============================] - 0s 19ms/step - loss: 0.0457 - accuracy: 0.9861 - val_loss: 0.7530 - val_accuracy: 0.7647\n",
      "\n",
      "Epoch 00062: val_loss improved from 0.76020 to 0.75299, saving model to model-v1.h5\n",
      "Epoch 63/500\n",
      "3/3 [==============================] - 0s 18ms/step - loss: 0.0436 - accuracy: 0.9861 - val_loss: 0.7454 - val_accuracy: 0.8235\n",
      "\n",
      "Epoch 00063: val_loss improved from 0.75299 to 0.74538, saving model to model-v1.h5\n",
      "Epoch 64/500\n",
      "3/3 [==============================] - 0s 28ms/step - loss: 0.0418 - accuracy: 0.9861 - val_loss: 0.7357 - val_accuracy: 0.8824\n",
      "\n",
      "Epoch 00064: val_loss improved from 0.74538 to 0.73568, saving model to model-v1.h5\n",
      "Epoch 65/500\n",
      "3/3 [==============================] - 0s 26ms/step - loss: 0.0398 - accuracy: 1.0000 - val_loss: 0.7273 - val_accuracy: 0.8824\n",
      "\n",
      "Epoch 00065: val_loss improved from 0.73568 to 0.72733, saving model to model-v1.h5\n",
      "Epoch 66/500\n",
      "3/3 [==============================] - 0s 18ms/step - loss: 0.0380 - accuracy: 1.0000 - val_loss: 0.7190 - val_accuracy: 0.8824\n",
      "\n",
      "Epoch 00066: val_loss improved from 0.72733 to 0.71900, saving model to model-v1.h5\n",
      "Epoch 67/500\n",
      "3/3 [==============================] - 0s 19ms/step - loss: 0.0366 - accuracy: 1.0000 - val_loss: 0.7125 - val_accuracy: 0.8824\n",
      "\n",
      "Epoch 00067: val_loss improved from 0.71900 to 0.71246, saving model to model-v1.h5\n",
      "Epoch 68/500\n",
      "3/3 [==============================] - 0s 27ms/step - loss: 0.0350 - accuracy: 1.0000 - val_loss: 0.7066 - val_accuracy: 0.8824\n",
      "\n",
      "Epoch 00068: val_loss improved from 0.71246 to 0.70660, saving model to model-v1.h5\n",
      "Epoch 69/500\n",
      "3/3 [==============================] - 0s 21ms/step - loss: 0.0334 - accuracy: 1.0000 - val_loss: 0.7020 - val_accuracy: 0.8824\n",
      "\n",
      "Epoch 00069: val_loss improved from 0.70660 to 0.70199, saving model to model-v1.h5\n",
      "Epoch 70/500\n",
      "3/3 [==============================] - 0s 18ms/step - loss: 0.0318 - accuracy: 1.0000 - val_loss: 0.6969 - val_accuracy: 0.8824\n",
      "\n",
      "Epoch 00070: val_loss improved from 0.70199 to 0.69687, saving model to model-v1.h5\n",
      "Epoch 71/500\n",
      "3/3 [==============================] - 0s 22ms/step - loss: 0.0307 - accuracy: 1.0000 - val_loss: 0.6932 - val_accuracy: 0.8824\n",
      "\n",
      "Epoch 00071: val_loss improved from 0.69687 to 0.69324, saving model to model-v1.h5\n",
      "Epoch 72/500\n",
      "3/3 [==============================] - 0s 23ms/step - loss: 0.0293 - accuracy: 1.0000 - val_loss: 0.6905 - val_accuracy: 0.8824\n",
      "\n",
      "Epoch 00072: val_loss improved from 0.69324 to 0.69048, saving model to model-v1.h5\n",
      "Epoch 73/500\n",
      "3/3 [==============================] - 0s 18ms/step - loss: 0.0280 - accuracy: 1.0000 - val_loss: 0.6868 - val_accuracy: 0.8824\n",
      "\n",
      "Epoch 00073: val_loss improved from 0.69048 to 0.68683, saving model to model-v1.h5\n",
      "Epoch 74/500\n",
      "3/3 [==============================] - 0s 28ms/step - loss: 0.0263 - accuracy: 1.0000 - val_loss: 0.6837 - val_accuracy: 0.8824\n",
      "\n",
      "Epoch 00074: val_loss improved from 0.68683 to 0.68366, saving model to model-v1.h5\n",
      "Epoch 75/500\n",
      "3/3 [==============================] - 0s 32ms/step - loss: 0.0250 - accuracy: 1.0000 - val_loss: 0.6811 - val_accuracy: 0.8824\n",
      "\n",
      "Epoch 00075: val_loss improved from 0.68366 to 0.68115, saving model to model-v1.h5\n",
      "Epoch 76/500\n",
      "3/3 [==============================] - 0s 20ms/step - loss: 0.0237 - accuracy: 1.0000 - val_loss: 0.6804 - val_accuracy: 0.8824\n",
      "\n",
      "Epoch 00076: val_loss improved from 0.68115 to 0.68038, saving model to model-v1.h5\n",
      "Epoch 77/500\n",
      "3/3 [==============================] - 0s 24ms/step - loss: 0.0226 - accuracy: 1.0000 - val_loss: 0.6798 - val_accuracy: 0.8235\n",
      "\n",
      "Epoch 00077: val_loss improved from 0.68038 to 0.67984, saving model to model-v1.h5\n",
      "Epoch 78/500\n",
      "3/3 [==============================] - 0s 23ms/step - loss: 0.0219 - accuracy: 1.0000 - val_loss: 0.6796 - val_accuracy: 0.8235\n",
      "\n",
      "Epoch 00078: val_loss improved from 0.67984 to 0.67959, saving model to model-v1.h5\n",
      "Epoch 79/500\n",
      "3/3 [==============================] - 0s 28ms/step - loss: 0.0208 - accuracy: 1.0000 - val_loss: 0.6785 - val_accuracy: 0.7647\n",
      "\n",
      "Epoch 00079: val_loss improved from 0.67959 to 0.67849, saving model to model-v1.h5\n",
      "Epoch 80/500\n",
      "3/3 [==============================] - 0s 17ms/step - loss: 0.0200 - accuracy: 1.0000 - val_loss: 0.6752 - val_accuracy: 0.7647\n",
      "\n",
      "Epoch 00080: val_loss improved from 0.67849 to 0.67521, saving model to model-v1.h5\n",
      "Epoch 81/500\n",
      "3/3 [==============================] - 0s 17ms/step - loss: 0.0193 - accuracy: 1.0000 - val_loss: 0.6703 - val_accuracy: 0.8235\n",
      "\n",
      "Epoch 00081: val_loss improved from 0.67521 to 0.67031, saving model to model-v1.h5\n",
      "Epoch 82/500\n",
      "3/3 [==============================] - 0s 19ms/step - loss: 0.0187 - accuracy: 1.0000 - val_loss: 0.6671 - val_accuracy: 0.8235\n",
      "\n",
      "Epoch 00082: val_loss improved from 0.67031 to 0.66712, saving model to model-v1.h5\n",
      "Epoch 83/500\n",
      "3/3 [==============================] - 0s 32ms/step - loss: 0.0177 - accuracy: 1.0000 - val_loss: 0.6650 - val_accuracy: 0.8235\n",
      "\n",
      "Epoch 00083: val_loss improved from 0.66712 to 0.66498, saving model to model-v1.h5\n",
      "Epoch 84/500\n",
      "3/3 [==============================] - 0s 25ms/step - loss: 0.0170 - accuracy: 1.0000 - val_loss: 0.6633 - val_accuracy: 0.7647\n",
      "\n",
      "Epoch 00084: val_loss improved from 0.66498 to 0.66335, saving model to model-v1.h5\n",
      "Epoch 85/500\n",
      "3/3 [==============================] - 0s 19ms/step - loss: 0.0164 - accuracy: 1.0000 - val_loss: 0.6620 - val_accuracy: 0.7647\n",
      "\n",
      "Epoch 00085: val_loss improved from 0.66335 to 0.66198, saving model to model-v1.h5\n",
      "Epoch 86/500\n",
      "3/3 [==============================] - 0s 17ms/step - loss: 0.0158 - accuracy: 1.0000 - val_loss: 0.6599 - val_accuracy: 0.7647\n",
      "\n",
      "Epoch 00086: val_loss improved from 0.66198 to 0.65988, saving model to model-v1.h5\n",
      "Epoch 87/500\n",
      "3/3 [==============================] - 0s 23ms/step - loss: 0.0152 - accuracy: 1.0000 - val_loss: 0.6580 - val_accuracy: 0.7647\n",
      "\n",
      "Epoch 00087: val_loss improved from 0.65988 to 0.65795, saving model to model-v1.h5\n",
      "Epoch 88/500\n",
      "3/3 [==============================] - 0s 26ms/step - loss: 0.0148 - accuracy: 1.0000 - val_loss: 0.6558 - val_accuracy: 0.7647\n",
      "\n",
      "Epoch 00088: val_loss improved from 0.65795 to 0.65575, saving model to model-v1.h5\n",
      "Epoch 89/500\n",
      "3/3 [==============================] - 0s 17ms/step - loss: 0.0143 - accuracy: 1.0000 - val_loss: 0.6539 - val_accuracy: 0.7647\n",
      "\n",
      "Epoch 00089: val_loss improved from 0.65575 to 0.65394, saving model to model-v1.h5\n",
      "Epoch 90/500\n",
      "3/3 [==============================] - 0s 18ms/step - loss: 0.0138 - accuracy: 1.0000 - val_loss: 0.6510 - val_accuracy: 0.7647\n",
      "\n",
      "Epoch 00090: val_loss improved from 0.65394 to 0.65104, saving model to model-v1.h5\n",
      "Epoch 91/500\n",
      "3/3 [==============================] - 0s 19ms/step - loss: 0.0134 - accuracy: 1.0000 - val_loss: 0.6488 - val_accuracy: 0.7647\n",
      "\n",
      "Epoch 00091: val_loss improved from 0.65104 to 0.64878, saving model to model-v1.h5\n",
      "Epoch 92/500\n",
      "3/3 [==============================] - 0s 19ms/step - loss: 0.0130 - accuracy: 1.0000 - val_loss: 0.6461 - val_accuracy: 0.7647\n",
      "\n",
      "Epoch 00092: val_loss improved from 0.64878 to 0.64606, saving model to model-v1.h5\n",
      "Epoch 93/500\n",
      "3/3 [==============================] - 0s 17ms/step - loss: 0.0127 - accuracy: 1.0000 - val_loss: 0.6441 - val_accuracy: 0.7647\n",
      "\n",
      "Epoch 00093: val_loss improved from 0.64606 to 0.64406, saving model to model-v1.h5\n",
      "Epoch 94/500\n",
      "3/3 [==============================] - 0s 17ms/step - loss: 0.0123 - accuracy: 1.0000 - val_loss: 0.6427 - val_accuracy: 0.7647\n",
      "\n",
      "Epoch 00094: val_loss improved from 0.64406 to 0.64274, saving model to model-v1.h5\n",
      "Epoch 95/500\n",
      "3/3 [==============================] - 0s 24ms/step - loss: 0.0120 - accuracy: 1.0000 - val_loss: 0.6415 - val_accuracy: 0.7647\n",
      "\n",
      "Epoch 00095: val_loss improved from 0.64274 to 0.64145, saving model to model-v1.h5\n",
      "Epoch 96/500\n",
      "3/3 [==============================] - 0s 28ms/step - loss: 0.0117 - accuracy: 1.0000 - val_loss: 0.6398 - val_accuracy: 0.7647\n",
      "\n",
      "Epoch 00096: val_loss improved from 0.64145 to 0.63981, saving model to model-v1.h5\n",
      "Epoch 97/500\n",
      "3/3 [==============================] - 0s 22ms/step - loss: 0.0114 - accuracy: 1.0000 - val_loss: 0.6383 - val_accuracy: 0.7647\n",
      "\n",
      "Epoch 00097: val_loss improved from 0.63981 to 0.63829, saving model to model-v1.h5\n",
      "Epoch 98/500\n",
      "3/3 [==============================] - 0s 18ms/step - loss: 0.0111 - accuracy: 1.0000 - val_loss: 0.6366 - val_accuracy: 0.7647\n",
      "\n",
      "Epoch 00098: val_loss improved from 0.63829 to 0.63657, saving model to model-v1.h5\n",
      "Epoch 99/500\n",
      "3/3 [==============================] - 0s 19ms/step - loss: 0.0108 - accuracy: 1.0000 - val_loss: 0.6352 - val_accuracy: 0.7647\n",
      "\n",
      "Epoch 00099: val_loss improved from 0.63657 to 0.63525, saving model to model-v1.h5\n",
      "Epoch 100/500\n",
      "3/3 [==============================] - 0s 19ms/step - loss: 0.0105 - accuracy: 1.0000 - val_loss: 0.6343 - val_accuracy: 0.7647\n",
      "\n",
      "Epoch 00100: val_loss improved from 0.63525 to 0.63435, saving model to model-v1.h5\n",
      "Epoch 101/500\n",
      "3/3 [==============================] - 0s 18ms/step - loss: 0.0103 - accuracy: 1.0000 - val_loss: 0.6336 - val_accuracy: 0.7647\n",
      "\n",
      "Epoch 00101: val_loss improved from 0.63435 to 0.63357, saving model to model-v1.h5\n",
      "Epoch 102/500\n",
      "3/3 [==============================] - 0s 19ms/step - loss: 0.0100 - accuracy: 1.0000 - val_loss: 0.6332 - val_accuracy: 0.7647\n",
      "\n",
      "Epoch 00102: val_loss improved from 0.63357 to 0.63318, saving model to model-v1.h5\n",
      "Epoch 103/500\n",
      "3/3 [==============================] - 0s 18ms/step - loss: 0.0098 - accuracy: 1.0000 - val_loss: 0.6328 - val_accuracy: 0.7647\n",
      "\n",
      "Epoch 00103: val_loss improved from 0.63318 to 0.63278, saving model to model-v1.h5\n",
      "Epoch 104/500\n",
      "3/3 [==============================] - 0s 18ms/step - loss: 0.0096 - accuracy: 1.0000 - val_loss: 0.6319 - val_accuracy: 0.7647\n",
      "\n",
      "Epoch 00104: val_loss improved from 0.63278 to 0.63189, saving model to model-v1.h5\n",
      "Epoch 105/500\n",
      "3/3 [==============================] - 0s 18ms/step - loss: 0.0093 - accuracy: 1.0000 - val_loss: 0.6308 - val_accuracy: 0.7647\n",
      "\n",
      "Epoch 00105: val_loss improved from 0.63189 to 0.63083, saving model to model-v1.h5\n",
      "Epoch 106/500\n",
      "3/3 [==============================] - 0s 19ms/step - loss: 0.0091 - accuracy: 1.0000 - val_loss: 0.6296 - val_accuracy: 0.7647\n",
      "\n",
      "Epoch 00106: val_loss improved from 0.63083 to 0.62957, saving model to model-v1.h5\n",
      "Epoch 107/500\n",
      "3/3 [==============================] - 0s 18ms/step - loss: 0.0089 - accuracy: 1.0000 - val_loss: 0.6289 - val_accuracy: 0.7647\n",
      "\n",
      "Epoch 00107: val_loss improved from 0.62957 to 0.62885, saving model to model-v1.h5\n",
      "Epoch 108/500\n",
      "3/3 [==============================] - 0s 18ms/step - loss: 0.0087 - accuracy: 1.0000 - val_loss: 0.6279 - val_accuracy: 0.7647\n",
      "\n",
      "Epoch 00108: val_loss improved from 0.62885 to 0.62786, saving model to model-v1.h5\n",
      "Epoch 109/500\n",
      "3/3 [==============================] - 0s 18ms/step - loss: 0.0085 - accuracy: 1.0000 - val_loss: 0.6260 - val_accuracy: 0.7647\n",
      "\n",
      "Epoch 00109: val_loss improved from 0.62786 to 0.62601, saving model to model-v1.h5\n",
      "Epoch 110/500\n",
      "3/3 [==============================] - 0s 18ms/step - loss: 0.0083 - accuracy: 1.0000 - val_loss: 0.6251 - val_accuracy: 0.7647\n",
      "\n",
      "Epoch 00110: val_loss improved from 0.62601 to 0.62512, saving model to model-v1.h5\n",
      "Epoch 111/500\n",
      "3/3 [==============================] - 0s 26ms/step - loss: 0.0081 - accuracy: 1.0000 - val_loss: 0.6243 - val_accuracy: 0.7647\n",
      "\n",
      "Epoch 00111: val_loss improved from 0.62512 to 0.62429, saving model to model-v1.h5\n",
      "Epoch 112/500\n",
      "3/3 [==============================] - 0s 22ms/step - loss: 0.0079 - accuracy: 1.0000 - val_loss: 0.6229 - val_accuracy: 0.7647\n",
      "\n",
      "Epoch 00112: val_loss improved from 0.62429 to 0.62294, saving model to model-v1.h5\n",
      "Epoch 113/500\n",
      "3/3 [==============================] - 0s 27ms/step - loss: 0.0078 - accuracy: 1.0000 - val_loss: 0.6223 - val_accuracy: 0.7647\n",
      "\n",
      "Epoch 00113: val_loss improved from 0.62294 to 0.62234, saving model to model-v1.h5\n",
      "Epoch 114/500\n",
      "3/3 [==============================] - 0s 30ms/step - loss: 0.0076 - accuracy: 1.0000 - val_loss: 0.6218 - val_accuracy: 0.7647\n",
      "\n",
      "Epoch 00114: val_loss improved from 0.62234 to 0.62178, saving model to model-v1.h5\n",
      "Epoch 115/500\n",
      "3/3 [==============================] - 0s 24ms/step - loss: 0.0074 - accuracy: 1.0000 - val_loss: 0.6205 - val_accuracy: 0.7647\n",
      "\n",
      "Epoch 00115: val_loss improved from 0.62178 to 0.62051, saving model to model-v1.h5\n",
      "Epoch 116/500\n",
      "3/3 [==============================] - 0s 25ms/step - loss: 0.0073 - accuracy: 1.0000 - val_loss: 0.6187 - val_accuracy: 0.7647\n",
      "\n",
      "Epoch 00116: val_loss improved from 0.62051 to 0.61870, saving model to model-v1.h5\n",
      "Epoch 117/500\n",
      "3/3 [==============================] - 0s 26ms/step - loss: 0.0071 - accuracy: 1.0000 - val_loss: 0.6174 - val_accuracy: 0.7647\n",
      "\n",
      "Epoch 00117: val_loss improved from 0.61870 to 0.61745, saving model to model-v1.h5\n",
      "Epoch 118/500\n",
      "3/3 [==============================] - 0s 24ms/step - loss: 0.0070 - accuracy: 1.0000 - val_loss: 0.6159 - val_accuracy: 0.7647\n",
      "\n",
      "Epoch 00118: val_loss improved from 0.61745 to 0.61595, saving model to model-v1.h5\n",
      "Epoch 119/500\n",
      "3/3 [==============================] - 0s 23ms/step - loss: 0.0068 - accuracy: 1.0000 - val_loss: 0.6138 - val_accuracy: 0.7647\n",
      "\n",
      "Epoch 00119: val_loss improved from 0.61595 to 0.61378, saving model to model-v1.h5\n",
      "Epoch 120/500\n",
      "3/3 [==============================] - 0s 25ms/step - loss: 0.0067 - accuracy: 1.0000 - val_loss: 0.6123 - val_accuracy: 0.7647\n",
      "\n",
      "Epoch 00120: val_loss improved from 0.61378 to 0.61233, saving model to model-v1.h5\n",
      "Epoch 121/500\n",
      "3/3 [==============================] - 0s 22ms/step - loss: 0.0066 - accuracy: 1.0000 - val_loss: 0.6115 - val_accuracy: 0.7647\n",
      "\n",
      "Epoch 00121: val_loss improved from 0.61233 to 0.61147, saving model to model-v1.h5\n",
      "Epoch 122/500\n",
      "3/3 [==============================] - 0s 24ms/step - loss: 0.0064 - accuracy: 1.0000 - val_loss: 0.6106 - val_accuracy: 0.7647\n",
      "\n",
      "Epoch 00122: val_loss improved from 0.61147 to 0.61058, saving model to model-v1.h5\n",
      "Epoch 123/500\n",
      "3/3 [==============================] - 0s 22ms/step - loss: 0.0063 - accuracy: 1.0000 - val_loss: 0.6102 - val_accuracy: 0.7647\n",
      "\n",
      "Epoch 00123: val_loss improved from 0.61058 to 0.61018, saving model to model-v1.h5\n",
      "Epoch 124/500\n",
      "3/3 [==============================] - 0s 23ms/step - loss: 0.0062 - accuracy: 1.0000 - val_loss: 0.6100 - val_accuracy: 0.7647\n",
      "\n",
      "Epoch 00124: val_loss improved from 0.61018 to 0.61001, saving model to model-v1.h5\n",
      "Epoch 125/500\n",
      "3/3 [==============================] - 0s 28ms/step - loss: 0.0060 - accuracy: 1.0000 - val_loss: 0.6103 - val_accuracy: 0.7647\n",
      "\n",
      "Epoch 00125: val_loss did not improve from 0.61001\n",
      "Epoch 126/500\n",
      "3/3 [==============================] - 0s 23ms/step - loss: 0.0059 - accuracy: 1.0000 - val_loss: 0.6105 - val_accuracy: 0.7647\n",
      "\n",
      "Epoch 00126: val_loss did not improve from 0.61001\n",
      "Epoch 127/500\n",
      "3/3 [==============================] - 0s 22ms/step - loss: 0.0058 - accuracy: 1.0000 - val_loss: 0.6107 - val_accuracy: 0.7647\n",
      "\n",
      "Epoch 00127: val_loss did not improve from 0.61001\n",
      "\n",
      "Epoch 00127: ReduceLROnPlateau reducing learning rate to 0.00020000000949949026.\n",
      "Epoch 128/500\n",
      "3/3 [==============================] - 0s 23ms/step - loss: 0.0057 - accuracy: 1.0000 - val_loss: 0.6109 - val_accuracy: 0.7647\n",
      "\n",
      "Epoch 00128: val_loss did not improve from 0.61001\n",
      "Epoch 129/500\n",
      "3/3 [==============================] - 0s 21ms/step - loss: 0.0056 - accuracy: 1.0000 - val_loss: 0.6109 - val_accuracy: 0.7647\n",
      "\n",
      "Epoch 00129: val_loss did not improve from 0.61001\n",
      "Epoch 130/500\n",
      "3/3 [==============================] - 0s 22ms/step - loss: 0.0056 - accuracy: 1.0000 - val_loss: 0.6109 - val_accuracy: 0.7647\n",
      "\n",
      "Epoch 00130: val_loss did not improve from 0.61001\n",
      "\n",
      "Epoch 00130: ReduceLROnPlateau reducing learning rate to 4.0000001899898055e-05.\n",
      "Epoch 131/500\n",
      "3/3 [==============================] - 0s 23ms/step - loss: 0.0056 - accuracy: 1.0000 - val_loss: 0.6110 - val_accuracy: 0.7647\n",
      "\n",
      "Epoch 00131: val_loss did not improve from 0.61001\n",
      "Epoch 132/500\n",
      "3/3 [==============================] - 0s 22ms/step - loss: 0.0056 - accuracy: 1.0000 - val_loss: 0.6110 - val_accuracy: 0.7647\n",
      "\n",
      "Epoch 00132: val_loss did not improve from 0.61001\n",
      "Epoch 133/500\n",
      "3/3 [==============================] - 0s 23ms/step - loss: 0.0056 - accuracy: 1.0000 - val_loss: 0.6110 - val_accuracy: 0.7647\n",
      "\n",
      "Epoch 00133: val_loss did not improve from 0.61001\n",
      "\n",
      "Epoch 00133: ReduceLROnPlateau reducing learning rate to 8.000000525498762e-06.\n",
      "Epoch 134/500\n",
      "3/3 [==============================] - 0s 23ms/step - loss: 0.0056 - accuracy: 1.0000 - val_loss: 0.6110 - val_accuracy: 0.7647\n",
      "\n",
      "Epoch 00134: val_loss did not improve from 0.61001\n"
     ]
    }
   ],
   "source": [
    "history = model.fit(X_train, y_train, epochs=500, verbose=1,validation_data=(X_test,y_test),callbacks=callbacks)"
   ]
  },
  {
   "cell_type": "code",
   "execution_count": null,
   "metadata": {},
   "outputs": [],
   "source": []
  },
  {
   "cell_type": "code",
   "execution_count": 54,
   "metadata": {},
   "outputs": [
    {
     "data": {
      "image/png": "[encoded data removed]",
      "text/plain": [
       "<Figure size 1152x576 with 2 Axes>"
      ]
     },
     "metadata": {
      "needs_background": "light"
     },
     "output_type": "display_data"
    }
   ],
   "source": [
    "acc = history.history['accuracy']\n",
    "val_acc = history.history['val_accuracy']\n",
    "loss=history.history['loss']\n",
    "val_loss=history.history['val_loss']\n",
    "\n",
    "plt.figure(figsize=(16,8))\n",
    "plt.subplot(1, 2, 1)\n",
    "plt.plot(acc, label='Training Accuracy')\n",
    "plt.plot(val_acc, label='Validation Accuracy')\n",
    "plt.legend(loc='lower right')\n",
    "plt.title('Training and Validation Accuracy')\n",
    "\n",
    "plt.subplot(1, 2, 2)\n",
    "plt.plot(loss, label='Training Loss')\n",
    "plt.plot(val_loss, label='Validation Loss')\n",
    "plt.legend(loc='upper right')\n",
    "plt.title('Training and Validation Loss')\n",
    "plt.show()"
   ]
  },
  {
   "cell_type": "code",
   "execution_count": 55,
   "metadata": {},
   "outputs": [
    {
     "data": {
      "text/plain": [
       "[0, 2, 1, 1, 5, 6, 12, 8, 9, 10]"
      ]
     },
     "execution_count": 55,
     "metadata": {},
     "output_type": "execute_result"
    }
   ],
   "source": [
    "[np.argmax(i) for i in model.predict(X_test)][:10]"
   ]
  },
  {
   "cell_type": "code",
   "execution_count": 56,
   "metadata": {},
   "outputs": [
    {
     "data": {
      "text/plain": [
       "[0, 2, 3, 4, 5, 6, 7, 8, 9, 10]"
      ]
     },
     "execution_count": 56,
     "metadata": {},
     "output_type": "execute_result"
    }
   ],
   "source": [
    "[np.argmax(i) for i in y_test][:10]"
   ]
  },
  {
   "cell_type": "code",
   "execution_count": null,
   "metadata": {},
   "outputs": [],
   "source": []
  },
  {
   "cell_type": "markdown",
   "metadata": {},
   "source": [
    "## New user question encoding"
   ]
  },
  {
   "cell_type": "code",
   "execution_count": 57,
   "metadata": {},
   "outputs": [],
   "source": [
    "def get_text():\n",
    "    input_text  = ['what are you']\n",
    "    df_input = pd.DataFrame(input_text,columns=['questions'])\n",
    "    df_input\n",
    "    return df_input "
   ]
  },
  {
   "cell_type": "code",
   "execution_count": 58,
   "metadata": {},
   "outputs": [],
   "source": [
    "#load artifacts \n",
    "from tensorflow.keras.models import load_model\n",
    "model = load_model('model-v1.h5')\n",
    "tokenizer_t = joblib.load('tokenizer_t.pkl')\n",
    "vocab = joblib.load('vocab.pkl')"
   ]
  },
  {
   "cell_type": "code",
   "execution_count": 59,
   "metadata": {},
   "outputs": [],
   "source": [
    "def tokenizer(entry):\n",
    "    tokens = entry.split()\n",
    "    re_punc = re.compile('[%s]' % re.escape(string.punctuation))\n",
    "    tokens = [re_punc.sub('', w) for w in tokens]\n",
    "    tokens = [word for word in tokens if word.isalpha()]\n",
    "    tokens = [lemmatizer.lemmatize(w.lower()) for w in tokens]\n",
    "#     stop_words = set(stopwords.words('english'))\n",
    "#     tokens = [w for w in tokens if not w in stop_words]\n",
    "    tokens = [word.lower() for word in tokens if len(word) > 1]\n",
    "    return tokens"
   ]
  },
  {
   "cell_type": "code",
   "execution_count": 60,
   "metadata": {},
   "outputs": [],
   "source": [
    "def remove_stop_words_for_input(tokenizer,df,feature):\n",
    "    doc_without_stopwords = []\n",
    "    entry = df[feature][0]\n",
    "    tokens = tokenizer(entry)\n",
    "    doc_without_stopwords.append(' '.join(tokens))\n",
    "    df[feature] = doc_without_stopwords\n",
    "    return df"
   ]
  },
  {
   "cell_type": "code",
   "execution_count": 61,
   "metadata": {},
   "outputs": [],
   "source": [
    "# df_input = remove_stop_words_for_input(tokenizer,df_input,'questions')\n",
    "# df_input"
   ]
  },
  {
   "cell_type": "code",
   "execution_count": 62,
   "metadata": {},
   "outputs": [],
   "source": [
    "def encode_input_text(tokenizer_t,df,feature):\n",
    "    t = tokenizer_t\n",
    "    entry = entry = [df[feature][0]]\n",
    "    encoded = t.texts_to_sequences(entry)\n",
    "    padded = pad_sequences(encoded, maxlen=16, padding='post')\n",
    "    return padded"
   ]
  },
  {
   "cell_type": "code",
   "execution_count": 63,
   "metadata": {},
   "outputs": [],
   "source": [
    "# encoded_input = encode_input_text(tokenizer_t,df_input,'questions')\n",
    "# encoded_input.shape"
   ]
  },
  {
   "cell_type": "code",
   "execution_count": 64,
   "metadata": {},
   "outputs": [],
   "source": [
    "# encoded_input"
   ]
  },
  {
   "cell_type": "code",
   "execution_count": 65,
   "metadata": {},
   "outputs": [],
   "source": [
    "def get_pred(model,encoded_input):\n",
    "    pred = np.argmax(model.predict(encoded_input))\n",
    "    return pred"
   ]
  },
  {
   "cell_type": "code",
   "execution_count": 66,
   "metadata": {},
   "outputs": [],
   "source": [
    "# mapper"
   ]
  },
  {
   "cell_type": "code",
   "execution_count": 67,
   "metadata": {},
   "outputs": [],
   "source": [
    "# df2.head()"
   ]
  },
  {
   "cell_type": "code",
   "execution_count": 68,
   "metadata": {},
   "outputs": [],
   "source": [
    "def bot_precausion(df_input,pred):\n",
    "    words = df_input.questions[0].split()\n",
    "    if len([w for w in words if w in vocab])==0 :\n",
    "        pred = 1\n",
    "    return pred"
   ]
  },
  {
   "cell_type": "code",
   "execution_count": 69,
   "metadata": {},
   "outputs": [],
   "source": [
    "def get_response(df2,pred):\n",
    "    upper_bound = df2.groupby('labels').get_group(pred).shape[0]\n",
    "    r = np.random.randint(0,upper_bound)\n",
    "    responses = list(df2.groupby('labels').get_group(pred).response)\n",
    "    return responses[r]\n",
    "    "
   ]
  },
  {
   "cell_type": "code",
   "execution_count": 70,
   "metadata": {},
   "outputs": [],
   "source": [
    "def bot_response(response,):\n",
    "    print(response)"
   ]
  },
  {
   "cell_type": "code",
   "execution_count": null,
   "metadata": {},
   "outputs": [],
   "source": []
  },
  {
   "cell_type": "code",
   "execution_count": 71,
   "metadata": {},
   "outputs": [
    {
     "name": "stdout",
     "output_type": "stream",
     "text": [
      "Hi, I'm  BoTennis\n"
     ]
    }
   ],
   "source": [
    "df_input = get_text()\n",
    "\n",
    "#load artifacts \n",
    "tokenizer_t = joblib.load('tokenizer_t.pkl')\n",
    "vocab = joblib.load('vocab.pkl')\n",
    "\n",
    "df_input = remove_stop_words_for_input(tokenizer,df_input,'questions')\n",
    "encoded_input = encode_input_text(tokenizer_t,df_input,'questions')\n",
    "\n",
    "pred = get_pred(model,encoded_input)\n",
    "pred = bot_precausion(df_input,pred)\n",
    "\n",
    "response = get_response(df2,pred)\n",
    "bot_response(response)"
   ]
  },
  {
   "cell_type": "code",
   "execution_count": null,
   "metadata": {},
   "outputs": [],
   "source": []
  },
  {
   "cell_type": "code",
   "execution_count": 72,
   "metadata": {},
   "outputs": [],
   "source": [
    "import streamlit as st"
   ]
  },
  {
   "cell_type": "code",
   "execution_count": 73,
   "metadata": {},
   "outputs": [
    {
     "ename": "TypeError",
     "evalue": "image() missing 1 required positional argument: 'image'",
     "output_type": "error",
     "traceback": [
      "\u001b[1;31m---------------------------------------------------------------------------\u001b[0m",
      "\u001b[1;31mTypeError\u001b[0m                                 Traceback (most recent call last)",
      "\u001b[1;32m<ipython-input-73-596fce9bd9ec>\u001b[0m in \u001b[0;36m<module>\u001b[1;34m\u001b[0m\n\u001b[1;32m----> 1\u001b[1;33m \u001b[0mst\u001b[0m\u001b[1;33m.\u001b[0m\u001b[0mimage\u001b[0m\u001b[1;33m(\u001b[0m\u001b[1;33m)\u001b[0m\u001b[1;33m\u001b[0m\u001b[1;33m\u001b[0m\u001b[0m\n\u001b[0m",
      "\u001b[1;32md:\\Install\\lib\\site-packages\\streamlit\\DeltaGenerator.py\u001b[0m in \u001b[0;36mwrapped_method\u001b[1;34m(dg, *args, **kwargs)\u001b[0m\n\u001b[0;32m    120\u001b[0m             \u001b[1;32mreturn\u001b[0m \u001b[0mmethod\u001b[0m\u001b[1;33m(\u001b[0m\u001b[0mdg\u001b[0m\u001b[1;33m,\u001b[0m \u001b[0melement\u001b[0m\u001b[1;33m,\u001b[0m \u001b[1;33m*\u001b[0m\u001b[0margs\u001b[0m\u001b[1;33m,\u001b[0m \u001b[1;33m**\u001b[0m\u001b[0mkwargs\u001b[0m\u001b[1;33m)\u001b[0m\u001b[1;33m\u001b[0m\u001b[1;33m\u001b[0m\u001b[0m\n\u001b[0;32m    121\u001b[0m \u001b[1;33m\u001b[0m\u001b[0m\n\u001b[1;32m--> 122\u001b[1;33m         \u001b[1;32mreturn\u001b[0m \u001b[0mdg\u001b[0m\u001b[1;33m.\u001b[0m\u001b[0m_enqueue_new_element_delta\u001b[0m\u001b[1;33m(\u001b[0m\u001b[0mmarshall_element\u001b[0m\u001b[1;33m,\u001b[0m \u001b[0mdelta_type\u001b[0m\u001b[1;33m,\u001b[0m \u001b[0mlast_index\u001b[0m\u001b[1;33m)\u001b[0m\u001b[1;33m\u001b[0m\u001b[1;33m\u001b[0m\u001b[0m\n\u001b[0m\u001b[0;32m    123\u001b[0m \u001b[1;33m\u001b[0m\u001b[0m\n\u001b[0;32m    124\u001b[0m     \u001b[1;32mreturn\u001b[0m \u001b[0mwrapped_method\u001b[0m\u001b[1;33m\u001b[0m\u001b[1;33m\u001b[0m\u001b[0m\n",
      "\u001b[1;32md:\\Install\\lib\\site-packages\\streamlit\\DeltaGenerator.py\u001b[0m in \u001b[0;36m_enqueue_new_element_delta\u001b[1;34m(self, marshall_element, delta_type, last_index, element_width, element_height)\u001b[0m\n\u001b[0;32m    365\u001b[0m         \u001b[1;31m# Streamlit.\u001b[0m\u001b[1;33m\u001b[0m\u001b[1;33m\u001b[0m\u001b[1;33m\u001b[0m\u001b[0m\n\u001b[0;32m    366\u001b[0m         \u001b[0mmsg\u001b[0m \u001b[1;33m=\u001b[0m \u001b[0mForwardMsg_pb2\u001b[0m\u001b[1;33m.\u001b[0m\u001b[0mForwardMsg\u001b[0m\u001b[1;33m(\u001b[0m\u001b[1;33m)\u001b[0m\u001b[1;33m\u001b[0m\u001b[1;33m\u001b[0m\u001b[0m\n\u001b[1;32m--> 367\u001b[1;33m         \u001b[0mrv\u001b[0m \u001b[1;33m=\u001b[0m \u001b[0mmarshall_element\u001b[0m\u001b[1;33m(\u001b[0m\u001b[0mmsg\u001b[0m\u001b[1;33m.\u001b[0m\u001b[0mdelta\u001b[0m\u001b[1;33m.\u001b[0m\u001b[0mnew_element\u001b[0m\u001b[1;33m)\u001b[0m\u001b[1;33m\u001b[0m\u001b[1;33m\u001b[0m\u001b[0m\n\u001b[0m\u001b[0;32m    368\u001b[0m \u001b[1;33m\u001b[0m\u001b[0m\n\u001b[0;32m    369\u001b[0m         \u001b[0mmsg_was_enqueued\u001b[0m \u001b[1;33m=\u001b[0m \u001b[1;32mFalse\u001b[0m\u001b[1;33m\u001b[0m\u001b[1;33m\u001b[0m\u001b[0m\n",
      "\u001b[1;32md:\\Install\\lib\\site-packages\\streamlit\\DeltaGenerator.py\u001b[0m in \u001b[0;36mmarshall_element\u001b[1;34m(element)\u001b[0m\n\u001b[0;32m    118\u001b[0m \u001b[1;33m\u001b[0m\u001b[0m\n\u001b[0;32m    119\u001b[0m         \u001b[1;32mdef\u001b[0m \u001b[0mmarshall_element\u001b[0m\u001b[1;33m(\u001b[0m\u001b[0melement\u001b[0m\u001b[1;33m)\u001b[0m\u001b[1;33m:\u001b[0m\u001b[1;33m\u001b[0m\u001b[1;33m\u001b[0m\u001b[0m\n\u001b[1;32m--> 120\u001b[1;33m             \u001b[1;32mreturn\u001b[0m \u001b[0mmethod\u001b[0m\u001b[1;33m(\u001b[0m\u001b[0mdg\u001b[0m\u001b[1;33m,\u001b[0m \u001b[0melement\u001b[0m\u001b[1;33m,\u001b[0m \u001b[1;33m*\u001b[0m\u001b[0margs\u001b[0m\u001b[1;33m,\u001b[0m \u001b[1;33m**\u001b[0m\u001b[0mkwargs\u001b[0m\u001b[1;33m)\u001b[0m\u001b[1;33m\u001b[0m\u001b[1;33m\u001b[0m\u001b[0m\n\u001b[0m\u001b[0;32m    121\u001b[0m \u001b[1;33m\u001b[0m\u001b[0m\n\u001b[0;32m    122\u001b[0m         \u001b[1;32mreturn\u001b[0m \u001b[0mdg\u001b[0m\u001b[1;33m.\u001b[0m\u001b[0m_enqueue_new_element_delta\u001b[0m\u001b[1;33m(\u001b[0m\u001b[0mmarshall_element\u001b[0m\u001b[1;33m,\u001b[0m \u001b[0mdelta_type\u001b[0m\u001b[1;33m,\u001b[0m \u001b[0mlast_index\u001b[0m\u001b[1;33m)\u001b[0m\u001b[1;33m\u001b[0m\u001b[1;33m\u001b[0m\u001b[0m\n",
      "\u001b[1;31mTypeError\u001b[0m: image() missing 1 required positional argument: 'image'"
     ]
    }
   ],
   "source": [
    "st.image()"
   ]
  }
 ],
 "metadata": {
  "kernelspec": {
   "display_name": "Python 3.8.5 ('base')",
   "language": "python",
   "name": "python3"
  },
  "language_info": {
   "codemirror_mode": {
    "name": "ipython",
    "version": 3
   },
   "file_extension": ".py",
   "mimetype": "text/x-python",
   "name": "python",
   "nbconvert_exporter": "python",
   "pygments_lexer": "ipython3",
   "version": "3.8.5"
  },
  "vscode": {
   "interpreter": {
    "hash": "2603bb851130afb14426b7cd53b4ae971a6148e1f100656e75380e1380fd4f20"
   }
  }
 },
 "nbformat": 4,
 "nbformat_minor": 4
}
